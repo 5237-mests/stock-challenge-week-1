{
 "cells": [
  {
   "cell_type": "code",
   "execution_count": 1,
   "id": "abe264d0",
   "metadata": {},
   "outputs": [
    {
     "name": "stderr",
     "output_type": "stream",
     "text": [
      "[nltk_data] Downloading package vader_lexicon to\n",
      "[nltk_data]     C:\\Users\\Mesfin\\AppData\\Roaming\\nltk_data...\n",
      "[nltk_data]   Package vader_lexicon is already up-to-date!\n"
     ]
    }
   ],
   "source": [
    "from analysis.data_loader import load_news_data, load_stock_data_from_csv\n",
    "from analysis.sentiment import add_sentiment_column"
   ]
  },
  {
   "cell_type": "code",
   "execution_count": 3,
   "id": "b46a70b9",
   "metadata": {},
   "outputs": [
    {
     "data": {
      "text/html": [
       "<div>\n",
       "<style scoped>\n",
       "    .dataframe tbody tr th:only-of-type {\n",
       "        vertical-align: middle;\n",
       "    }\n",
       "\n",
       "    .dataframe tbody tr th {\n",
       "        vertical-align: top;\n",
       "    }\n",
       "\n",
       "    .dataframe thead th {\n",
       "        text-align: right;\n",
       "    }\n",
       "</style>\n",
       "<table border=\"1\" class=\"dataframe\">\n",
       "  <thead>\n",
       "    <tr style=\"text-align: right;\">\n",
       "      <th></th>\n",
       "      <th>Unnamed: 0</th>\n",
       "      <th>headline</th>\n",
       "      <th>url</th>\n",
       "      <th>publisher</th>\n",
       "      <th>date</th>\n",
       "      <th>stock</th>\n",
       "    </tr>\n",
       "  </thead>\n",
       "  <tbody>\n",
       "    <tr>\n",
       "      <th>0</th>\n",
       "      <td>0</td>\n",
       "      <td>Stocks That Hit 52-Week Highs On Friday</td>\n",
       "      <td>https://www.benzinga.com/news/20/06/16190091/s...</td>\n",
       "      <td>Benzinga Insights</td>\n",
       "      <td>2020-06-05 10:30:54-04:00</td>\n",
       "      <td>A</td>\n",
       "    </tr>\n",
       "    <tr>\n",
       "      <th>1</th>\n",
       "      <td>1</td>\n",
       "      <td>Stocks That Hit 52-Week Highs On Wednesday</td>\n",
       "      <td>https://www.benzinga.com/news/20/06/16170189/s...</td>\n",
       "      <td>Benzinga Insights</td>\n",
       "      <td>2020-06-03 10:45:20-04:00</td>\n",
       "      <td>A</td>\n",
       "    </tr>\n",
       "    <tr>\n",
       "      <th>2</th>\n",
       "      <td>2</td>\n",
       "      <td>71 Biggest Movers From Friday</td>\n",
       "      <td>https://www.benzinga.com/news/20/05/16103463/7...</td>\n",
       "      <td>Lisa Levin</td>\n",
       "      <td>2020-05-26 04:30:07-04:00</td>\n",
       "      <td>A</td>\n",
       "    </tr>\n",
       "    <tr>\n",
       "      <th>3</th>\n",
       "      <td>3</td>\n",
       "      <td>46 Stocks Moving In Friday's Mid-Day Session</td>\n",
       "      <td>https://www.benzinga.com/news/20/05/16095921/4...</td>\n",
       "      <td>Lisa Levin</td>\n",
       "      <td>2020-05-22 12:45:06-04:00</td>\n",
       "      <td>A</td>\n",
       "    </tr>\n",
       "    <tr>\n",
       "      <th>4</th>\n",
       "      <td>4</td>\n",
       "      <td>B of A Securities Maintains Neutral on Agilent...</td>\n",
       "      <td>https://www.benzinga.com/news/20/05/16095304/b...</td>\n",
       "      <td>Vick Meyer</td>\n",
       "      <td>2020-05-22 11:38:59-04:00</td>\n",
       "      <td>A</td>\n",
       "    </tr>\n",
       "  </tbody>\n",
       "</table>\n",
       "</div>"
      ],
      "text/plain": [
       "   Unnamed: 0                                           headline  \\\n",
       "0           0            Stocks That Hit 52-Week Highs On Friday   \n",
       "1           1         Stocks That Hit 52-Week Highs On Wednesday   \n",
       "2           2                      71 Biggest Movers From Friday   \n",
       "3           3       46 Stocks Moving In Friday's Mid-Day Session   \n",
       "4           4  B of A Securities Maintains Neutral on Agilent...   \n",
       "\n",
       "                                                 url          publisher  \\\n",
       "0  https://www.benzinga.com/news/20/06/16190091/s...  Benzinga Insights   \n",
       "1  https://www.benzinga.com/news/20/06/16170189/s...  Benzinga Insights   \n",
       "2  https://www.benzinga.com/news/20/05/16103463/7...         Lisa Levin   \n",
       "3  https://www.benzinga.com/news/20/05/16095921/4...         Lisa Levin   \n",
       "4  https://www.benzinga.com/news/20/05/16095304/b...         Vick Meyer   \n",
       "\n",
       "                        date stock  \n",
       "0  2020-06-05 10:30:54-04:00     A  \n",
       "1  2020-06-03 10:45:20-04:00     A  \n",
       "2  2020-05-26 04:30:07-04:00     A  \n",
       "3  2020-05-22 12:45:06-04:00     A  \n",
       "4  2020-05-22 11:38:59-04:00     A  "
      ]
     },
     "execution_count": 3,
     "metadata": {},
     "output_type": "execute_result"
    }
   ],
   "source": [
    "# Load news data\n",
    "news_df = load_news_data(\"../data/raw_analyst_ratings.csv/raw_analyst_ratings.csv\")\n",
    "\n",
    "news_df.head()"
   ]
  },
  {
   "cell_type": "code",
   "execution_count": 4,
   "id": "f07b9481",
   "metadata": {},
   "outputs": [],
   "source": [
    "# remove unnamed columns\n",
    "news_df = news_df.loc[:, ~news_df.columns.str.contains('^Unnamed')]"
   ]
  },
  {
   "cell_type": "code",
   "execution_count": 5,
   "id": "71884040",
   "metadata": {},
   "outputs": [
    {
     "data": {
      "text/html": [
       "<div>\n",
       "<style scoped>\n",
       "    .dataframe tbody tr th:only-of-type {\n",
       "        vertical-align: middle;\n",
       "    }\n",
       "\n",
       "    .dataframe tbody tr th {\n",
       "        vertical-align: top;\n",
       "    }\n",
       "\n",
       "    .dataframe thead th {\n",
       "        text-align: right;\n",
       "    }\n",
       "</style>\n",
       "<table border=\"1\" class=\"dataframe\">\n",
       "  <thead>\n",
       "    <tr style=\"text-align: right;\">\n",
       "      <th></th>\n",
       "      <th>headline</th>\n",
       "      <th>url</th>\n",
       "      <th>publisher</th>\n",
       "      <th>date</th>\n",
       "      <th>stock</th>\n",
       "    </tr>\n",
       "  </thead>\n",
       "  <tbody>\n",
       "    <tr>\n",
       "      <th>0</th>\n",
       "      <td>Stocks That Hit 52-Week Highs On Friday</td>\n",
       "      <td>https://www.benzinga.com/news/20/06/16190091/s...</td>\n",
       "      <td>Benzinga Insights</td>\n",
       "      <td>2020-06-05 10:30:54-04:00</td>\n",
       "      <td>A</td>\n",
       "    </tr>\n",
       "    <tr>\n",
       "      <th>1</th>\n",
       "      <td>Stocks That Hit 52-Week Highs On Wednesday</td>\n",
       "      <td>https://www.benzinga.com/news/20/06/16170189/s...</td>\n",
       "      <td>Benzinga Insights</td>\n",
       "      <td>2020-06-03 10:45:20-04:00</td>\n",
       "      <td>A</td>\n",
       "    </tr>\n",
       "    <tr>\n",
       "      <th>2</th>\n",
       "      <td>71 Biggest Movers From Friday</td>\n",
       "      <td>https://www.benzinga.com/news/20/05/16103463/7...</td>\n",
       "      <td>Lisa Levin</td>\n",
       "      <td>2020-05-26 04:30:07-04:00</td>\n",
       "      <td>A</td>\n",
       "    </tr>\n",
       "    <tr>\n",
       "      <th>3</th>\n",
       "      <td>46 Stocks Moving In Friday's Mid-Day Session</td>\n",
       "      <td>https://www.benzinga.com/news/20/05/16095921/4...</td>\n",
       "      <td>Lisa Levin</td>\n",
       "      <td>2020-05-22 12:45:06-04:00</td>\n",
       "      <td>A</td>\n",
       "    </tr>\n",
       "    <tr>\n",
       "      <th>4</th>\n",
       "      <td>B of A Securities Maintains Neutral on Agilent...</td>\n",
       "      <td>https://www.benzinga.com/news/20/05/16095304/b...</td>\n",
       "      <td>Vick Meyer</td>\n",
       "      <td>2020-05-22 11:38:59-04:00</td>\n",
       "      <td>A</td>\n",
       "    </tr>\n",
       "  </tbody>\n",
       "</table>\n",
       "</div>"
      ],
      "text/plain": [
       "                                            headline  \\\n",
       "0            Stocks That Hit 52-Week Highs On Friday   \n",
       "1         Stocks That Hit 52-Week Highs On Wednesday   \n",
       "2                      71 Biggest Movers From Friday   \n",
       "3       46 Stocks Moving In Friday's Mid-Day Session   \n",
       "4  B of A Securities Maintains Neutral on Agilent...   \n",
       "\n",
       "                                                 url          publisher  \\\n",
       "0  https://www.benzinga.com/news/20/06/16190091/s...  Benzinga Insights   \n",
       "1  https://www.benzinga.com/news/20/06/16170189/s...  Benzinga Insights   \n",
       "2  https://www.benzinga.com/news/20/05/16103463/7...         Lisa Levin   \n",
       "3  https://www.benzinga.com/news/20/05/16095921/4...         Lisa Levin   \n",
       "4  https://www.benzinga.com/news/20/05/16095304/b...         Vick Meyer   \n",
       "\n",
       "                        date stock  \n",
       "0  2020-06-05 10:30:54-04:00     A  \n",
       "1  2020-06-03 10:45:20-04:00     A  \n",
       "2  2020-05-26 04:30:07-04:00     A  \n",
       "3  2020-05-22 12:45:06-04:00     A  \n",
       "4  2020-05-22 11:38:59-04:00     A  "
      ]
     },
     "execution_count": 5,
     "metadata": {},
     "output_type": "execute_result"
    }
   ],
   "source": [
    "news_df.head()"
   ]
  },
  {
   "cell_type": "code",
   "execution_count": 27,
   "id": "8b711908",
   "metadata": {},
   "outputs": [],
   "source": [
    "# Convert date column to datetime\n",
    "import pandas as pd\n",
    "news_df['date'] = pd.to_datetime(news_df['date'], format='mixed', errors='coerce', utc=True)"
   ]
  },
  {
   "cell_type": "code",
   "execution_count": 17,
   "id": "9413a502",
   "metadata": {},
   "outputs": [
    {
     "data": {
      "text/html": [
       "<div>\n",
       "<style scoped>\n",
       "    .dataframe tbody tr th:only-of-type {\n",
       "        vertical-align: middle;\n",
       "    }\n",
       "\n",
       "    .dataframe tbody tr th {\n",
       "        vertical-align: top;\n",
       "    }\n",
       "\n",
       "    .dataframe thead th {\n",
       "        text-align: right;\n",
       "    }\n",
       "</style>\n",
       "<table border=\"1\" class=\"dataframe\">\n",
       "  <thead>\n",
       "    <tr style=\"text-align: right;\">\n",
       "      <th></th>\n",
       "      <th>headline</th>\n",
       "      <th>url</th>\n",
       "      <th>publisher</th>\n",
       "      <th>date</th>\n",
       "      <th>stock</th>\n",
       "      <th>sentiment</th>\n",
       "    </tr>\n",
       "  </thead>\n",
       "  <tbody>\n",
       "    <tr>\n",
       "      <th>0</th>\n",
       "      <td>Stocks That Hit 52-Week Highs On Friday</td>\n",
       "      <td>https://www.benzinga.com/news/20/06/16190091/s...</td>\n",
       "      <td>Benzinga Insights</td>\n",
       "      <td>2020-06-05 00:00:00+00:00</td>\n",
       "      <td>A</td>\n",
       "      <td>0.000</td>\n",
       "    </tr>\n",
       "    <tr>\n",
       "      <th>1</th>\n",
       "      <td>Stocks That Hit 52-Week Highs On Wednesday</td>\n",
       "      <td>https://www.benzinga.com/news/20/06/16170189/s...</td>\n",
       "      <td>Benzinga Insights</td>\n",
       "      <td>2020-06-03 00:00:00+00:00</td>\n",
       "      <td>A</td>\n",
       "      <td>0.000</td>\n",
       "    </tr>\n",
       "    <tr>\n",
       "      <th>2</th>\n",
       "      <td>71 Biggest Movers From Friday</td>\n",
       "      <td>https://www.benzinga.com/news/20/05/16103463/7...</td>\n",
       "      <td>Lisa Levin</td>\n",
       "      <td>2020-05-26 00:00:00+00:00</td>\n",
       "      <td>A</td>\n",
       "      <td>0.000</td>\n",
       "    </tr>\n",
       "    <tr>\n",
       "      <th>3</th>\n",
       "      <td>46 Stocks Moving In Friday's Mid-Day Session</td>\n",
       "      <td>https://www.benzinga.com/news/20/05/16095921/4...</td>\n",
       "      <td>Lisa Levin</td>\n",
       "      <td>2020-05-22 00:00:00+00:00</td>\n",
       "      <td>A</td>\n",
       "      <td>0.000</td>\n",
       "    </tr>\n",
       "    <tr>\n",
       "      <th>4</th>\n",
       "      <td>B of A Securities Maintains Neutral on Agilent...</td>\n",
       "      <td>https://www.benzinga.com/news/20/05/16095304/b...</td>\n",
       "      <td>Vick Meyer</td>\n",
       "      <td>2020-05-22 00:00:00+00:00</td>\n",
       "      <td>A</td>\n",
       "      <td>0.296</td>\n",
       "    </tr>\n",
       "  </tbody>\n",
       "</table>\n",
       "</div>"
      ],
      "text/plain": [
       "                                            headline  \\\n",
       "0            Stocks That Hit 52-Week Highs On Friday   \n",
       "1         Stocks That Hit 52-Week Highs On Wednesday   \n",
       "2                      71 Biggest Movers From Friday   \n",
       "3       46 Stocks Moving In Friday's Mid-Day Session   \n",
       "4  B of A Securities Maintains Neutral on Agilent...   \n",
       "\n",
       "                                                 url          publisher  \\\n",
       "0  https://www.benzinga.com/news/20/06/16190091/s...  Benzinga Insights   \n",
       "1  https://www.benzinga.com/news/20/06/16170189/s...  Benzinga Insights   \n",
       "2  https://www.benzinga.com/news/20/05/16103463/7...         Lisa Levin   \n",
       "3  https://www.benzinga.com/news/20/05/16095921/4...         Lisa Levin   \n",
       "4  https://www.benzinga.com/news/20/05/16095304/b...         Vick Meyer   \n",
       "\n",
       "                       date stock  sentiment  \n",
       "0 2020-06-05 00:00:00+00:00     A      0.000  \n",
       "1 2020-06-03 00:00:00+00:00     A      0.000  \n",
       "2 2020-05-26 00:00:00+00:00     A      0.000  \n",
       "3 2020-05-22 00:00:00+00:00     A      0.000  \n",
       "4 2020-05-22 00:00:00+00:00     A      0.296  "
      ]
     },
     "execution_count": 17,
     "metadata": {},
     "output_type": "execute_result"
    }
   ],
   "source": [
    "news_df.head()"
   ]
  },
  {
   "cell_type": "code",
   "execution_count": 31,
   "id": "d235383c",
   "metadata": {},
   "outputs": [],
   "source": [
    "# convert date to date only (remove time)\n",
    "news_df['date'] = news_df['date'].dt.date"
   ]
  },
  {
   "cell_type": "code",
   "execution_count": 29,
   "id": "394ff173",
   "metadata": {},
   "outputs": [
    {
     "data": {
      "text/html": [
       "<div>\n",
       "<style scoped>\n",
       "    .dataframe tbody tr th:only-of-type {\n",
       "        vertical-align: middle;\n",
       "    }\n",
       "\n",
       "    .dataframe tbody tr th {\n",
       "        vertical-align: top;\n",
       "    }\n",
       "\n",
       "    .dataframe thead th {\n",
       "        text-align: right;\n",
       "    }\n",
       "</style>\n",
       "<table border=\"1\" class=\"dataframe\">\n",
       "  <thead>\n",
       "    <tr style=\"text-align: right;\">\n",
       "      <th></th>\n",
       "      <th>headline</th>\n",
       "      <th>url</th>\n",
       "      <th>publisher</th>\n",
       "      <th>date</th>\n",
       "      <th>stock</th>\n",
       "      <th>sentiment</th>\n",
       "      <th>date_only</th>\n",
       "    </tr>\n",
       "  </thead>\n",
       "  <tbody>\n",
       "    <tr>\n",
       "      <th>0</th>\n",
       "      <td>Stocks That Hit 52-Week Highs On Friday</td>\n",
       "      <td>https://www.benzinga.com/news/20/06/16190091/s...</td>\n",
       "      <td>Benzinga Insights</td>\n",
       "      <td>2020-06-05 00:00:00+00:00</td>\n",
       "      <td>A</td>\n",
       "      <td>0.000</td>\n",
       "      <td>2020-06-05</td>\n",
       "    </tr>\n",
       "    <tr>\n",
       "      <th>1</th>\n",
       "      <td>Stocks That Hit 52-Week Highs On Wednesday</td>\n",
       "      <td>https://www.benzinga.com/news/20/06/16170189/s...</td>\n",
       "      <td>Benzinga Insights</td>\n",
       "      <td>2020-06-03 00:00:00+00:00</td>\n",
       "      <td>A</td>\n",
       "      <td>0.000</td>\n",
       "      <td>2020-06-03</td>\n",
       "    </tr>\n",
       "    <tr>\n",
       "      <th>2</th>\n",
       "      <td>71 Biggest Movers From Friday</td>\n",
       "      <td>https://www.benzinga.com/news/20/05/16103463/7...</td>\n",
       "      <td>Lisa Levin</td>\n",
       "      <td>2020-05-26 00:00:00+00:00</td>\n",
       "      <td>A</td>\n",
       "      <td>0.000</td>\n",
       "      <td>2020-05-26</td>\n",
       "    </tr>\n",
       "    <tr>\n",
       "      <th>3</th>\n",
       "      <td>46 Stocks Moving In Friday's Mid-Day Session</td>\n",
       "      <td>https://www.benzinga.com/news/20/05/16095921/4...</td>\n",
       "      <td>Lisa Levin</td>\n",
       "      <td>2020-05-22 00:00:00+00:00</td>\n",
       "      <td>A</td>\n",
       "      <td>0.000</td>\n",
       "      <td>2020-05-22</td>\n",
       "    </tr>\n",
       "    <tr>\n",
       "      <th>4</th>\n",
       "      <td>B of A Securities Maintains Neutral on Agilent...</td>\n",
       "      <td>https://www.benzinga.com/news/20/05/16095304/b...</td>\n",
       "      <td>Vick Meyer</td>\n",
       "      <td>2020-05-22 00:00:00+00:00</td>\n",
       "      <td>A</td>\n",
       "      <td>0.296</td>\n",
       "      <td>2020-05-22</td>\n",
       "    </tr>\n",
       "  </tbody>\n",
       "</table>\n",
       "</div>"
      ],
      "text/plain": [
       "                                            headline  \\\n",
       "0            Stocks That Hit 52-Week Highs On Friday   \n",
       "1         Stocks That Hit 52-Week Highs On Wednesday   \n",
       "2                      71 Biggest Movers From Friday   \n",
       "3       46 Stocks Moving In Friday's Mid-Day Session   \n",
       "4  B of A Securities Maintains Neutral on Agilent...   \n",
       "\n",
       "                                                 url          publisher  \\\n",
       "0  https://www.benzinga.com/news/20/06/16190091/s...  Benzinga Insights   \n",
       "1  https://www.benzinga.com/news/20/06/16170189/s...  Benzinga Insights   \n",
       "2  https://www.benzinga.com/news/20/05/16103463/7...         Lisa Levin   \n",
       "3  https://www.benzinga.com/news/20/05/16095921/4...         Lisa Levin   \n",
       "4  https://www.benzinga.com/news/20/05/16095304/b...         Vick Meyer   \n",
       "\n",
       "                       date stock  sentiment   date_only  \n",
       "0 2020-06-05 00:00:00+00:00     A      0.000  2020-06-05  \n",
       "1 2020-06-03 00:00:00+00:00     A      0.000  2020-06-03  \n",
       "2 2020-05-26 00:00:00+00:00     A      0.000  2020-05-26  \n",
       "3 2020-05-22 00:00:00+00:00     A      0.000  2020-05-22  \n",
       "4 2020-05-22 00:00:00+00:00     A      0.296  2020-05-22  "
      ]
     },
     "execution_count": 29,
     "metadata": {},
     "output_type": "execute_result"
    }
   ],
   "source": [
    "news_df.head()"
   ]
  },
  {
   "cell_type": "code",
   "execution_count": 10,
   "id": "f6338e4f",
   "metadata": {},
   "outputs": [],
   "source": [
    "# Applying sentiment analysis to news data\n",
    "news_df = add_sentiment_column(news_df)"
   ]
  },
  {
   "cell_type": "code",
   "execution_count": 30,
   "id": "26c1d550",
   "metadata": {},
   "outputs": [],
   "source": [
    "# Add date_only column\n",
    "news_df['date_only'] = news_df['date'].dt.date"
   ]
  },
  {
   "cell_type": "code",
   "execution_count": 33,
   "id": "44eeaa46",
   "metadata": {},
   "outputs": [
    {
     "data": {
      "text/html": [
       "<div>\n",
       "<style scoped>\n",
       "    .dataframe tbody tr th:only-of-type {\n",
       "        vertical-align: middle;\n",
       "    }\n",
       "\n",
       "    .dataframe tbody tr th {\n",
       "        vertical-align: top;\n",
       "    }\n",
       "\n",
       "    .dataframe thead th {\n",
       "        text-align: right;\n",
       "    }\n",
       "</style>\n",
       "<table border=\"1\" class=\"dataframe\">\n",
       "  <thead>\n",
       "    <tr style=\"text-align: right;\">\n",
       "      <th></th>\n",
       "      <th>headline</th>\n",
       "      <th>url</th>\n",
       "      <th>publisher</th>\n",
       "      <th>date</th>\n",
       "      <th>stock</th>\n",
       "      <th>sentiment</th>\n",
       "      <th>date_only</th>\n",
       "    </tr>\n",
       "  </thead>\n",
       "  <tbody>\n",
       "    <tr>\n",
       "      <th>0</th>\n",
       "      <td>Stocks That Hit 52-Week Highs On Friday</td>\n",
       "      <td>https://www.benzinga.com/news/20/06/16190091/s...</td>\n",
       "      <td>Benzinga Insights</td>\n",
       "      <td>2020-06-05</td>\n",
       "      <td>A</td>\n",
       "      <td>0.000</td>\n",
       "      <td>2020-06-05</td>\n",
       "    </tr>\n",
       "    <tr>\n",
       "      <th>1</th>\n",
       "      <td>Stocks That Hit 52-Week Highs On Wednesday</td>\n",
       "      <td>https://www.benzinga.com/news/20/06/16170189/s...</td>\n",
       "      <td>Benzinga Insights</td>\n",
       "      <td>2020-06-03</td>\n",
       "      <td>A</td>\n",
       "      <td>0.000</td>\n",
       "      <td>2020-06-03</td>\n",
       "    </tr>\n",
       "    <tr>\n",
       "      <th>2</th>\n",
       "      <td>71 Biggest Movers From Friday</td>\n",
       "      <td>https://www.benzinga.com/news/20/05/16103463/7...</td>\n",
       "      <td>Lisa Levin</td>\n",
       "      <td>2020-05-26</td>\n",
       "      <td>A</td>\n",
       "      <td>0.000</td>\n",
       "      <td>2020-05-26</td>\n",
       "    </tr>\n",
       "    <tr>\n",
       "      <th>3</th>\n",
       "      <td>46 Stocks Moving In Friday's Mid-Day Session</td>\n",
       "      <td>https://www.benzinga.com/news/20/05/16095921/4...</td>\n",
       "      <td>Lisa Levin</td>\n",
       "      <td>2020-05-22</td>\n",
       "      <td>A</td>\n",
       "      <td>0.000</td>\n",
       "      <td>2020-05-22</td>\n",
       "    </tr>\n",
       "    <tr>\n",
       "      <th>4</th>\n",
       "      <td>B of A Securities Maintains Neutral on Agilent...</td>\n",
       "      <td>https://www.benzinga.com/news/20/05/16095304/b...</td>\n",
       "      <td>Vick Meyer</td>\n",
       "      <td>2020-05-22</td>\n",
       "      <td>A</td>\n",
       "      <td>0.296</td>\n",
       "      <td>2020-05-22</td>\n",
       "    </tr>\n",
       "  </tbody>\n",
       "</table>\n",
       "</div>"
      ],
      "text/plain": [
       "                                            headline  \\\n",
       "0            Stocks That Hit 52-Week Highs On Friday   \n",
       "1         Stocks That Hit 52-Week Highs On Wednesday   \n",
       "2                      71 Biggest Movers From Friday   \n",
       "3       46 Stocks Moving In Friday's Mid-Day Session   \n",
       "4  B of A Securities Maintains Neutral on Agilent...   \n",
       "\n",
       "                                                 url          publisher  \\\n",
       "0  https://www.benzinga.com/news/20/06/16190091/s...  Benzinga Insights   \n",
       "1  https://www.benzinga.com/news/20/06/16170189/s...  Benzinga Insights   \n",
       "2  https://www.benzinga.com/news/20/05/16103463/7...         Lisa Levin   \n",
       "3  https://www.benzinga.com/news/20/05/16095921/4...         Lisa Levin   \n",
       "4  https://www.benzinga.com/news/20/05/16095304/b...         Vick Meyer   \n",
       "\n",
       "         date stock  sentiment   date_only  \n",
       "0  2020-06-05     A      0.000  2020-06-05  \n",
       "1  2020-06-03     A      0.000  2020-06-03  \n",
       "2  2020-05-26     A      0.000  2020-05-26  \n",
       "3  2020-05-22     A      0.000  2020-05-22  \n",
       "4  2020-05-22     A      0.296  2020-05-22  "
      ]
     },
     "execution_count": 33,
     "metadata": {},
     "output_type": "execute_result"
    }
   ],
   "source": [
    "news_df.head()"
   ]
  },
  {
   "cell_type": "markdown",
   "id": "2e681708",
   "metadata": {},
   "source": [
    "# Sentiment Analysis for AAPL"
   ]
  },
  {
   "cell_type": "code",
   "execution_count": null,
   "id": "1ef0d7f7",
   "metadata": {},
   "outputs": [],
   "source": [
    "# load stock data for multiple tickers\n",
    "aapl_df = load_stock_data_from_csv(\"../data/yfinance_data/yfinance_data/AAPL_historical_data.csv\")\n"
   ]
  },
  {
   "cell_type": "code",
   "execution_count": 19,
   "id": "e23a3293",
   "metadata": {},
   "outputs": [
    {
     "data": {
      "text/html": [
       "<div>\n",
       "<style scoped>\n",
       "    .dataframe tbody tr th:only-of-type {\n",
       "        vertical-align: middle;\n",
       "    }\n",
       "\n",
       "    .dataframe tbody tr th {\n",
       "        vertical-align: top;\n",
       "    }\n",
       "\n",
       "    .dataframe thead th {\n",
       "        text-align: right;\n",
       "    }\n",
       "</style>\n",
       "<table border=\"1\" class=\"dataframe\">\n",
       "  <thead>\n",
       "    <tr style=\"text-align: right;\">\n",
       "      <th></th>\n",
       "      <th>Open</th>\n",
       "      <th>High</th>\n",
       "      <th>Low</th>\n",
       "      <th>Close</th>\n",
       "      <th>Adj Close</th>\n",
       "      <th>Volume</th>\n",
       "      <th>Dividends</th>\n",
       "      <th>Stock Splits</th>\n",
       "    </tr>\n",
       "    <tr>\n",
       "      <th>Date</th>\n",
       "      <th></th>\n",
       "      <th></th>\n",
       "      <th></th>\n",
       "      <th></th>\n",
       "      <th></th>\n",
       "      <th></th>\n",
       "      <th></th>\n",
       "      <th></th>\n",
       "    </tr>\n",
       "  </thead>\n",
       "  <tbody>\n",
       "    <tr>\n",
       "      <th>1980-12-12</th>\n",
       "      <td>0.128348</td>\n",
       "      <td>0.128906</td>\n",
       "      <td>0.128348</td>\n",
       "      <td>0.128348</td>\n",
       "      <td>0.098943</td>\n",
       "      <td>469033600</td>\n",
       "      <td>0.0</td>\n",
       "      <td>0.0</td>\n",
       "    </tr>\n",
       "    <tr>\n",
       "      <th>1980-12-15</th>\n",
       "      <td>0.122210</td>\n",
       "      <td>0.122210</td>\n",
       "      <td>0.121652</td>\n",
       "      <td>0.121652</td>\n",
       "      <td>0.093781</td>\n",
       "      <td>175884800</td>\n",
       "      <td>0.0</td>\n",
       "      <td>0.0</td>\n",
       "    </tr>\n",
       "    <tr>\n",
       "      <th>1980-12-16</th>\n",
       "      <td>0.113281</td>\n",
       "      <td>0.113281</td>\n",
       "      <td>0.112723</td>\n",
       "      <td>0.112723</td>\n",
       "      <td>0.086898</td>\n",
       "      <td>105728000</td>\n",
       "      <td>0.0</td>\n",
       "      <td>0.0</td>\n",
       "    </tr>\n",
       "    <tr>\n",
       "      <th>1980-12-17</th>\n",
       "      <td>0.115513</td>\n",
       "      <td>0.116071</td>\n",
       "      <td>0.115513</td>\n",
       "      <td>0.115513</td>\n",
       "      <td>0.089049</td>\n",
       "      <td>86441600</td>\n",
       "      <td>0.0</td>\n",
       "      <td>0.0</td>\n",
       "    </tr>\n",
       "    <tr>\n",
       "      <th>1980-12-18</th>\n",
       "      <td>0.118862</td>\n",
       "      <td>0.119420</td>\n",
       "      <td>0.118862</td>\n",
       "      <td>0.118862</td>\n",
       "      <td>0.091630</td>\n",
       "      <td>73449600</td>\n",
       "      <td>0.0</td>\n",
       "      <td>0.0</td>\n",
       "    </tr>\n",
       "  </tbody>\n",
       "</table>\n",
       "</div>"
      ],
      "text/plain": [
       "                Open      High       Low     Close  Adj Close     Volume  \\\n",
       "Date                                                                       \n",
       "1980-12-12  0.128348  0.128906  0.128348  0.128348   0.098943  469033600   \n",
       "1980-12-15  0.122210  0.122210  0.121652  0.121652   0.093781  175884800   \n",
       "1980-12-16  0.113281  0.113281  0.112723  0.112723   0.086898  105728000   \n",
       "1980-12-17  0.115513  0.116071  0.115513  0.115513   0.089049   86441600   \n",
       "1980-12-18  0.118862  0.119420  0.118862  0.118862   0.091630   73449600   \n",
       "\n",
       "            Dividends  Stock Splits  \n",
       "Date                                 \n",
       "1980-12-12        0.0           0.0  \n",
       "1980-12-15        0.0           0.0  \n",
       "1980-12-16        0.0           0.0  \n",
       "1980-12-17        0.0           0.0  \n",
       "1980-12-18        0.0           0.0  "
      ]
     },
     "execution_count": 19,
     "metadata": {},
     "output_type": "execute_result"
    }
   ],
   "source": [
    "aapl_df.head()"
   ]
  },
  {
   "cell_type": "markdown",
   "id": "5909e8ba",
   "metadata": {},
   "source": [
    "#### Combine sentiment with stock closing prices on the same date"
   ]
  },
  {
   "cell_type": "code",
   "execution_count": 30,
   "id": "2c6849c6",
   "metadata": {},
   "outputs": [
    {
     "data": {
      "text/html": [
       "<div>\n",
       "<style scoped>\n",
       "    .dataframe tbody tr th:only-of-type {\n",
       "        vertical-align: middle;\n",
       "    }\n",
       "\n",
       "    .dataframe tbody tr th {\n",
       "        vertical-align: top;\n",
       "    }\n",
       "\n",
       "    .dataframe thead th {\n",
       "        text-align: right;\n",
       "    }\n",
       "</style>\n",
       "<table border=\"1\" class=\"dataframe\">\n",
       "  <thead>\n",
       "    <tr style=\"text-align: right;\">\n",
       "      <th></th>\n",
       "      <th>headline</th>\n",
       "      <th>url</th>\n",
       "      <th>publisher</th>\n",
       "      <th>date</th>\n",
       "      <th>stock</th>\n",
       "      <th>date_only</th>\n",
       "      <th>sentiment</th>\n",
       "    </tr>\n",
       "  </thead>\n",
       "  <tbody>\n",
       "    <tr>\n",
       "      <th>6680</th>\n",
       "      <td>Tech Stocks And FAANGS Strong Again To Start D...</td>\n",
       "      <td>https://www.benzinga.com/government/20/06/1622...</td>\n",
       "      <td>JJ Kinahan</td>\n",
       "      <td>2020-06-10</td>\n",
       "      <td>AAPL</td>\n",
       "      <td>2020-06-10</td>\n",
       "      <td>0.5574</td>\n",
       "    </tr>\n",
       "    <tr>\n",
       "      <th>6681</th>\n",
       "      <td>10 Biggest Price Target Changes For Wednesday</td>\n",
       "      <td>https://www.benzinga.com/analyst-ratings/price...</td>\n",
       "      <td>Lisa Levin</td>\n",
       "      <td>2020-06-10</td>\n",
       "      <td>AAPL</td>\n",
       "      <td>2020-06-10</td>\n",
       "      <td>0.0000</td>\n",
       "    </tr>\n",
       "    <tr>\n",
       "      <th>6682</th>\n",
       "      <td>Benzinga Pro's Top 5 Stocks To Watch For Wed.,...</td>\n",
       "      <td>https://www.benzinga.com/short-sellers/20/06/1...</td>\n",
       "      <td>Benzinga Newsdesk</td>\n",
       "      <td>2020-06-10</td>\n",
       "      <td>AAPL</td>\n",
       "      <td>2020-06-10</td>\n",
       "      <td>0.2023</td>\n",
       "    </tr>\n",
       "    <tr>\n",
       "      <th>6683</th>\n",
       "      <td>Deutsche Bank Maintains Buy on Apple, Raises P...</td>\n",
       "      <td>https://www.benzinga.com/news/20/06/16219873/d...</td>\n",
       "      <td>Benzinga Newsdesk</td>\n",
       "      <td>2020-06-10</td>\n",
       "      <td>AAPL</td>\n",
       "      <td>2020-06-10</td>\n",
       "      <td>0.0000</td>\n",
       "    </tr>\n",
       "    <tr>\n",
       "      <th>6684</th>\n",
       "      <td>Apple To Let Users Trade In Their Mac Computer...</td>\n",
       "      <td>https://www.benzinga.com/news/20/06/16218697/a...</td>\n",
       "      <td>Neer Varshney</td>\n",
       "      <td>2020-06-10</td>\n",
       "      <td>AAPL</td>\n",
       "      <td>2020-06-10</td>\n",
       "      <td>0.3818</td>\n",
       "    </tr>\n",
       "    <tr>\n",
       "      <th>...</th>\n",
       "      <td>...</td>\n",
       "      <td>...</td>\n",
       "      <td>...</td>\n",
       "      <td>...</td>\n",
       "      <td>...</td>\n",
       "      <td>...</td>\n",
       "      <td>...</td>\n",
       "    </tr>\n",
       "    <tr>\n",
       "      <th>7116</th>\n",
       "      <td>UBS Maintains Buy on Apple, Lowers Price Targe...</td>\n",
       "      <td>https://www.benzinga.com/news/20/03/15514989/u...</td>\n",
       "      <td>Vick Meyer</td>\n",
       "      <td>2020-03-10</td>\n",
       "      <td>AAPL</td>\n",
       "      <td>2020-03-10</td>\n",
       "      <td>-0.1280</td>\n",
       "    </tr>\n",
       "    <tr>\n",
       "      <th>7117</th>\n",
       "      <td>123 Biggest Movers From Yesterday</td>\n",
       "      <td>https://www.benzinga.com/news/20/03/15514298/1...</td>\n",
       "      <td>Lisa Levin</td>\n",
       "      <td>2020-03-10</td>\n",
       "      <td>AAPL</td>\n",
       "      <td>2020-03-10</td>\n",
       "      <td>0.0000</td>\n",
       "    </tr>\n",
       "    <tr>\n",
       "      <th>7118</th>\n",
       "      <td>Crude Awakening: Energy Sector Takes A 20% Spi...</td>\n",
       "      <td>https://www.benzinga.com/news/earnings/20/03/1...</td>\n",
       "      <td>JJ Kinahan</td>\n",
       "      <td>2020-03-09</td>\n",
       "      <td>AAPL</td>\n",
       "      <td>2020-03-09</td>\n",
       "      <td>-0.9062</td>\n",
       "    </tr>\n",
       "    <tr>\n",
       "      <th>7119</th>\n",
       "      <td>Investor Movement Index Summary: February 2020</td>\n",
       "      <td>https://www.benzinga.com/news/earnings/20/03/1...</td>\n",
       "      <td>TD Ameritrade</td>\n",
       "      <td>2020-03-09</td>\n",
       "      <td>AAPL</td>\n",
       "      <td>2020-03-09</td>\n",
       "      <td>0.0000</td>\n",
       "    </tr>\n",
       "    <tr>\n",
       "      <th>7120</th>\n",
       "      <td>101 Stocks Moving In Monday's Mid-Day Session</td>\n",
       "      <td>https://www.benzinga.com/news/20/03/15508983/1...</td>\n",
       "      <td>Lisa Levin</td>\n",
       "      <td>2020-03-09</td>\n",
       "      <td>AAPL</td>\n",
       "      <td>2020-03-09</td>\n",
       "      <td>0.0000</td>\n",
       "    </tr>\n",
       "  </tbody>\n",
       "</table>\n",
       "<p>441 rows × 7 columns</p>\n",
       "</div>"
      ],
      "text/plain": [
       "                                               headline  \\\n",
       "6680  Tech Stocks And FAANGS Strong Again To Start D...   \n",
       "6681      10 Biggest Price Target Changes For Wednesday   \n",
       "6682  Benzinga Pro's Top 5 Stocks To Watch For Wed.,...   \n",
       "6683  Deutsche Bank Maintains Buy on Apple, Raises P...   \n",
       "6684  Apple To Let Users Trade In Their Mac Computer...   \n",
       "...                                                 ...   \n",
       "7116  UBS Maintains Buy on Apple, Lowers Price Targe...   \n",
       "7117                  123 Biggest Movers From Yesterday   \n",
       "7118  Crude Awakening: Energy Sector Takes A 20% Spi...   \n",
       "7119     Investor Movement Index Summary: February 2020   \n",
       "7120      101 Stocks Moving In Monday's Mid-Day Session   \n",
       "\n",
       "                                                    url          publisher  \\\n",
       "6680  https://www.benzinga.com/government/20/06/1622...         JJ Kinahan   \n",
       "6681  https://www.benzinga.com/analyst-ratings/price...         Lisa Levin   \n",
       "6682  https://www.benzinga.com/short-sellers/20/06/1...  Benzinga Newsdesk   \n",
       "6683  https://www.benzinga.com/news/20/06/16219873/d...  Benzinga Newsdesk   \n",
       "6684  https://www.benzinga.com/news/20/06/16218697/a...      Neer Varshney   \n",
       "...                                                 ...                ...   \n",
       "7116  https://www.benzinga.com/news/20/03/15514989/u...         Vick Meyer   \n",
       "7117  https://www.benzinga.com/news/20/03/15514298/1...         Lisa Levin   \n",
       "7118  https://www.benzinga.com/news/earnings/20/03/1...         JJ Kinahan   \n",
       "7119  https://www.benzinga.com/news/earnings/20/03/1...      TD Ameritrade   \n",
       "7120  https://www.benzinga.com/news/20/03/15508983/1...         Lisa Levin   \n",
       "\n",
       "            date stock   date_only  sentiment  \n",
       "6680  2020-06-10  AAPL  2020-06-10     0.5574  \n",
       "6681  2020-06-10  AAPL  2020-06-10     0.0000  \n",
       "6682  2020-06-10  AAPL  2020-06-10     0.2023  \n",
       "6683  2020-06-10  AAPL  2020-06-10     0.0000  \n",
       "6684  2020-06-10  AAPL  2020-06-10     0.3818  \n",
       "...          ...   ...         ...        ...  \n",
       "7116  2020-03-10  AAPL  2020-03-10    -0.1280  \n",
       "7117  2020-03-10  AAPL  2020-03-10     0.0000  \n",
       "7118  2020-03-09  AAPL  2020-03-09    -0.9062  \n",
       "7119  2020-03-09  AAPL  2020-03-09     0.0000  \n",
       "7120  2020-03-09  AAPL  2020-03-09     0.0000  \n",
       "\n",
       "[441 rows x 7 columns]"
      ]
     },
     "execution_count": 30,
     "metadata": {},
     "output_type": "execute_result"
    }
   ],
   "source": [
    "# filter aaple news\n",
    "aapl_news_df = news_df[news_df['stock'] == 'AAPL']\n",
    "aapl_news_df"
   ]
  },
  {
   "cell_type": "code",
   "execution_count": 31,
   "id": "22daf00e",
   "metadata": {},
   "outputs": [],
   "source": [
    "# Aligning sentiment scores with the stock closing prices on the same date\n",
    "combined_data = aapl_news_df.set_index('date').join(aapl_df['Close'])"
   ]
  },
  {
   "cell_type": "code",
   "execution_count": null,
   "id": "83ec23da",
   "metadata": {},
   "outputs": [],
   "source": [
    "# --- 2. Ensure the news date column is of datetime64[ns] type for robust merging ---\n",
    "# If 'date_only' is already datetime.date objects, this converts it to datetime64[ns] (midnight)\n",
    "aapl_news_df['date_for_merge'] = pd.to_datetime(aapl_news_df['date_only'])"
   ]
  },
  {
   "cell_type": "code",
   "execution_count": 49,
   "id": "ce3b9c2f",
   "metadata": {},
   "outputs": [],
   "source": [
    "# convert aapl_df's index to datetime if it's not already\n",
    "aapl_df.index = pd.to_datetime(aapl_df.index)"
   ]
  },
  {
   "cell_type": "code",
   "execution_count": 50,
   "id": "a8e3a232",
   "metadata": {},
   "outputs": [],
   "source": [
    "# --- 3. Perform the optimized merge operation ---\n",
    "# Merge aapl_news_df with aapl_df based on news 'date_for_merge' and stock 'Date' index\n",
    "combined_dataa = pd.merge(\n",
    "    aapl_news_df,\n",
    "    aapl_df[['Close']], # Select only 'Close' from aapl_df; its index 'Date' is implicitly used\n",
    "    left_on='date_for_merge', # Column from the left DataFrame (aapl_news_df)\n",
    "    right_index=True,        # Use the index of the right DataFrame (aapl_df)\n",
    "    how='left'               # Keep all news entries\n",
    ")"
   ]
  },
  {
   "cell_type": "code",
   "execution_count": 52,
   "id": "e3018763",
   "metadata": {},
   "outputs": [],
   "source": [
    "\n",
    "# --- 4. Optional: Clean up and rename ---\n",
    "# Drop the temporary column used for merging if no longer needed\n",
    "combined_data = combined_dataa.drop(columns=['date_for_merge', 'date_only'], errors='ignore')"
   ]
  },
  {
   "cell_type": "code",
   "execution_count": 56,
   "id": "2edadc69",
   "metadata": {},
   "outputs": [
    {
     "data": {
      "text/html": [
       "<div>\n",
       "<style scoped>\n",
       "    .dataframe tbody tr th:only-of-type {\n",
       "        vertical-align: middle;\n",
       "    }\n",
       "\n",
       "    .dataframe tbody tr th {\n",
       "        vertical-align: top;\n",
       "    }\n",
       "\n",
       "    .dataframe thead th {\n",
       "        text-align: right;\n",
       "    }\n",
       "</style>\n",
       "<table border=\"1\" class=\"dataframe\">\n",
       "  <thead>\n",
       "    <tr style=\"text-align: right;\">\n",
       "      <th></th>\n",
       "      <th>headline</th>\n",
       "      <th>url</th>\n",
       "      <th>publisher</th>\n",
       "      <th>date</th>\n",
       "      <th>stock</th>\n",
       "      <th>sentiment</th>\n",
       "      <th>Close</th>\n",
       "    </tr>\n",
       "  </thead>\n",
       "  <tbody>\n",
       "    <tr>\n",
       "      <th>6680</th>\n",
       "      <td>Tech Stocks And FAANGS Strong Again To Start D...</td>\n",
       "      <td>https://www.benzinga.com/government/20/06/1622...</td>\n",
       "      <td>JJ Kinahan</td>\n",
       "      <td>2020-06-10</td>\n",
       "      <td>AAPL</td>\n",
       "      <td>0.5574</td>\n",
       "      <td>88.209999</td>\n",
       "    </tr>\n",
       "    <tr>\n",
       "      <th>6681</th>\n",
       "      <td>10 Biggest Price Target Changes For Wednesday</td>\n",
       "      <td>https://www.benzinga.com/analyst-ratings/price...</td>\n",
       "      <td>Lisa Levin</td>\n",
       "      <td>2020-06-10</td>\n",
       "      <td>AAPL</td>\n",
       "      <td>0.0000</td>\n",
       "      <td>88.209999</td>\n",
       "    </tr>\n",
       "    <tr>\n",
       "      <th>6682</th>\n",
       "      <td>Benzinga Pro's Top 5 Stocks To Watch For Wed.,...</td>\n",
       "      <td>https://www.benzinga.com/short-sellers/20/06/1...</td>\n",
       "      <td>Benzinga Newsdesk</td>\n",
       "      <td>2020-06-10</td>\n",
       "      <td>AAPL</td>\n",
       "      <td>0.2023</td>\n",
       "      <td>88.209999</td>\n",
       "    </tr>\n",
       "    <tr>\n",
       "      <th>6683</th>\n",
       "      <td>Deutsche Bank Maintains Buy on Apple, Raises P...</td>\n",
       "      <td>https://www.benzinga.com/news/20/06/16219873/d...</td>\n",
       "      <td>Benzinga Newsdesk</td>\n",
       "      <td>2020-06-10</td>\n",
       "      <td>AAPL</td>\n",
       "      <td>0.0000</td>\n",
       "      <td>88.209999</td>\n",
       "    </tr>\n",
       "    <tr>\n",
       "      <th>6684</th>\n",
       "      <td>Apple To Let Users Trade In Their Mac Computer...</td>\n",
       "      <td>https://www.benzinga.com/news/20/06/16218697/a...</td>\n",
       "      <td>Neer Varshney</td>\n",
       "      <td>2020-06-10</td>\n",
       "      <td>AAPL</td>\n",
       "      <td>0.3818</td>\n",
       "      <td>88.209999</td>\n",
       "    </tr>\n",
       "    <tr>\n",
       "      <th>...</th>\n",
       "      <td>...</td>\n",
       "      <td>...</td>\n",
       "      <td>...</td>\n",
       "      <td>...</td>\n",
       "      <td>...</td>\n",
       "      <td>...</td>\n",
       "      <td>...</td>\n",
       "    </tr>\n",
       "    <tr>\n",
       "      <th>7116</th>\n",
       "      <td>UBS Maintains Buy on Apple, Lowers Price Targe...</td>\n",
       "      <td>https://www.benzinga.com/news/20/03/15514989/u...</td>\n",
       "      <td>Vick Meyer</td>\n",
       "      <td>2020-03-10</td>\n",
       "      <td>AAPL</td>\n",
       "      <td>-0.1280</td>\n",
       "      <td>71.334999</td>\n",
       "    </tr>\n",
       "    <tr>\n",
       "      <th>7117</th>\n",
       "      <td>123 Biggest Movers From Yesterday</td>\n",
       "      <td>https://www.benzinga.com/news/20/03/15514298/1...</td>\n",
       "      <td>Lisa Levin</td>\n",
       "      <td>2020-03-10</td>\n",
       "      <td>AAPL</td>\n",
       "      <td>0.0000</td>\n",
       "      <td>71.334999</td>\n",
       "    </tr>\n",
       "    <tr>\n",
       "      <th>7118</th>\n",
       "      <td>Crude Awakening: Energy Sector Takes A 20% Spi...</td>\n",
       "      <td>https://www.benzinga.com/news/earnings/20/03/1...</td>\n",
       "      <td>JJ Kinahan</td>\n",
       "      <td>2020-03-09</td>\n",
       "      <td>AAPL</td>\n",
       "      <td>-0.9062</td>\n",
       "      <td>66.542503</td>\n",
       "    </tr>\n",
       "    <tr>\n",
       "      <th>7119</th>\n",
       "      <td>Investor Movement Index Summary: February 2020</td>\n",
       "      <td>https://www.benzinga.com/news/earnings/20/03/1...</td>\n",
       "      <td>TD Ameritrade</td>\n",
       "      <td>2020-03-09</td>\n",
       "      <td>AAPL</td>\n",
       "      <td>0.0000</td>\n",
       "      <td>66.542503</td>\n",
       "    </tr>\n",
       "    <tr>\n",
       "      <th>7120</th>\n",
       "      <td>101 Stocks Moving In Monday's Mid-Day Session</td>\n",
       "      <td>https://www.benzinga.com/news/20/03/15508983/1...</td>\n",
       "      <td>Lisa Levin</td>\n",
       "      <td>2020-03-09</td>\n",
       "      <td>AAPL</td>\n",
       "      <td>0.0000</td>\n",
       "      <td>66.542503</td>\n",
       "    </tr>\n",
       "  </tbody>\n",
       "</table>\n",
       "<p>441 rows × 7 columns</p>\n",
       "</div>"
      ],
      "text/plain": [
       "                                               headline  \\\n",
       "6680  Tech Stocks And FAANGS Strong Again To Start D...   \n",
       "6681      10 Biggest Price Target Changes For Wednesday   \n",
       "6682  Benzinga Pro's Top 5 Stocks To Watch For Wed.,...   \n",
       "6683  Deutsche Bank Maintains Buy on Apple, Raises P...   \n",
       "6684  Apple To Let Users Trade In Their Mac Computer...   \n",
       "...                                                 ...   \n",
       "7116  UBS Maintains Buy on Apple, Lowers Price Targe...   \n",
       "7117                  123 Biggest Movers From Yesterday   \n",
       "7118  Crude Awakening: Energy Sector Takes A 20% Spi...   \n",
       "7119     Investor Movement Index Summary: February 2020   \n",
       "7120      101 Stocks Moving In Monday's Mid-Day Session   \n",
       "\n",
       "                                                    url          publisher  \\\n",
       "6680  https://www.benzinga.com/government/20/06/1622...         JJ Kinahan   \n",
       "6681  https://www.benzinga.com/analyst-ratings/price...         Lisa Levin   \n",
       "6682  https://www.benzinga.com/short-sellers/20/06/1...  Benzinga Newsdesk   \n",
       "6683  https://www.benzinga.com/news/20/06/16219873/d...  Benzinga Newsdesk   \n",
       "6684  https://www.benzinga.com/news/20/06/16218697/a...      Neer Varshney   \n",
       "...                                                 ...                ...   \n",
       "7116  https://www.benzinga.com/news/20/03/15514989/u...         Vick Meyer   \n",
       "7117  https://www.benzinga.com/news/20/03/15514298/1...         Lisa Levin   \n",
       "7118  https://www.benzinga.com/news/earnings/20/03/1...         JJ Kinahan   \n",
       "7119  https://www.benzinga.com/news/earnings/20/03/1...      TD Ameritrade   \n",
       "7120  https://www.benzinga.com/news/20/03/15508983/1...         Lisa Levin   \n",
       "\n",
       "            date stock  sentiment      Close  \n",
       "6680  2020-06-10  AAPL     0.5574  88.209999  \n",
       "6681  2020-06-10  AAPL     0.0000  88.209999  \n",
       "6682  2020-06-10  AAPL     0.2023  88.209999  \n",
       "6683  2020-06-10  AAPL     0.0000  88.209999  \n",
       "6684  2020-06-10  AAPL     0.3818  88.209999  \n",
       "...          ...   ...        ...        ...  \n",
       "7116  2020-03-10  AAPL    -0.1280  71.334999  \n",
       "7117  2020-03-10  AAPL     0.0000  71.334999  \n",
       "7118  2020-03-09  AAPL    -0.9062  66.542503  \n",
       "7119  2020-03-09  AAPL     0.0000  66.542503  \n",
       "7120  2020-03-09  AAPL     0.0000  66.542503  \n",
       "\n",
       "[441 rows x 7 columns]"
      ]
     },
     "execution_count": 56,
     "metadata": {},
     "output_type": "execute_result"
    }
   ],
   "source": [
    "combined_data"
   ]
  },
  {
   "cell_type": "code",
   "execution_count": null,
   "id": "f7fe0af2",
   "metadata": {},
   "outputs": [],
   "source": [
    "# Calculate daily return using pct_change() method of pandas DataFrame\n",
    "combined_data['Daily Returns'] = combined_data['Close'].pct_change()"
   ]
  },
  {
   "cell_type": "code",
   "execution_count": 60,
   "id": "73a9e55d",
   "metadata": {},
   "outputs": [
    {
     "data": {
      "text/html": [
       "<div>\n",
       "<style scoped>\n",
       "    .dataframe tbody tr th:only-of-type {\n",
       "        vertical-align: middle;\n",
       "    }\n",
       "\n",
       "    .dataframe tbody tr th {\n",
       "        vertical-align: top;\n",
       "    }\n",
       "\n",
       "    .dataframe thead th {\n",
       "        text-align: right;\n",
       "    }\n",
       "</style>\n",
       "<table border=\"1\" class=\"dataframe\">\n",
       "  <thead>\n",
       "    <tr style=\"text-align: right;\">\n",
       "      <th></th>\n",
       "      <th>headline</th>\n",
       "      <th>url</th>\n",
       "      <th>publisher</th>\n",
       "      <th>date</th>\n",
       "      <th>stock</th>\n",
       "      <th>sentiment</th>\n",
       "      <th>Close</th>\n",
       "      <th>Daily Returns</th>\n",
       "    </tr>\n",
       "  </thead>\n",
       "  <tbody>\n",
       "    <tr>\n",
       "      <th>6680</th>\n",
       "      <td>Tech Stocks And FAANGS Strong Again To Start D...</td>\n",
       "      <td>https://www.benzinga.com/government/20/06/1622...</td>\n",
       "      <td>JJ Kinahan</td>\n",
       "      <td>2020-06-10</td>\n",
       "      <td>AAPL</td>\n",
       "      <td>0.5574</td>\n",
       "      <td>88.209999</td>\n",
       "      <td>NaN</td>\n",
       "    </tr>\n",
       "    <tr>\n",
       "      <th>6681</th>\n",
       "      <td>10 Biggest Price Target Changes For Wednesday</td>\n",
       "      <td>https://www.benzinga.com/analyst-ratings/price...</td>\n",
       "      <td>Lisa Levin</td>\n",
       "      <td>2020-06-10</td>\n",
       "      <td>AAPL</td>\n",
       "      <td>0.0000</td>\n",
       "      <td>88.209999</td>\n",
       "      <td>0.0</td>\n",
       "    </tr>\n",
       "    <tr>\n",
       "      <th>6682</th>\n",
       "      <td>Benzinga Pro's Top 5 Stocks To Watch For Wed.,...</td>\n",
       "      <td>https://www.benzinga.com/short-sellers/20/06/1...</td>\n",
       "      <td>Benzinga Newsdesk</td>\n",
       "      <td>2020-06-10</td>\n",
       "      <td>AAPL</td>\n",
       "      <td>0.2023</td>\n",
       "      <td>88.209999</td>\n",
       "      <td>0.0</td>\n",
       "    </tr>\n",
       "    <tr>\n",
       "      <th>6683</th>\n",
       "      <td>Deutsche Bank Maintains Buy on Apple, Raises P...</td>\n",
       "      <td>https://www.benzinga.com/news/20/06/16219873/d...</td>\n",
       "      <td>Benzinga Newsdesk</td>\n",
       "      <td>2020-06-10</td>\n",
       "      <td>AAPL</td>\n",
       "      <td>0.0000</td>\n",
       "      <td>88.209999</td>\n",
       "      <td>0.0</td>\n",
       "    </tr>\n",
       "    <tr>\n",
       "      <th>6684</th>\n",
       "      <td>Apple To Let Users Trade In Their Mac Computer...</td>\n",
       "      <td>https://www.benzinga.com/news/20/06/16218697/a...</td>\n",
       "      <td>Neer Varshney</td>\n",
       "      <td>2020-06-10</td>\n",
       "      <td>AAPL</td>\n",
       "      <td>0.3818</td>\n",
       "      <td>88.209999</td>\n",
       "      <td>0.0</td>\n",
       "    </tr>\n",
       "  </tbody>\n",
       "</table>\n",
       "</div>"
      ],
      "text/plain": [
       "                                               headline  \\\n",
       "6680  Tech Stocks And FAANGS Strong Again To Start D...   \n",
       "6681      10 Biggest Price Target Changes For Wednesday   \n",
       "6682  Benzinga Pro's Top 5 Stocks To Watch For Wed.,...   \n",
       "6683  Deutsche Bank Maintains Buy on Apple, Raises P...   \n",
       "6684  Apple To Let Users Trade In Their Mac Computer...   \n",
       "\n",
       "                                                    url          publisher  \\\n",
       "6680  https://www.benzinga.com/government/20/06/1622...         JJ Kinahan   \n",
       "6681  https://www.benzinga.com/analyst-ratings/price...         Lisa Levin   \n",
       "6682  https://www.benzinga.com/short-sellers/20/06/1...  Benzinga Newsdesk   \n",
       "6683  https://www.benzinga.com/news/20/06/16219873/d...  Benzinga Newsdesk   \n",
       "6684  https://www.benzinga.com/news/20/06/16218697/a...      Neer Varshney   \n",
       "\n",
       "            date stock  sentiment      Close  Daily Returns  \n",
       "6680  2020-06-10  AAPL     0.5574  88.209999            NaN  \n",
       "6681  2020-06-10  AAPL     0.0000  88.209999            0.0  \n",
       "6682  2020-06-10  AAPL     0.2023  88.209999            0.0  \n",
       "6683  2020-06-10  AAPL     0.0000  88.209999            0.0  \n",
       "6684  2020-06-10  AAPL     0.3818  88.209999            0.0  "
      ]
     },
     "execution_count": 60,
     "metadata": {},
     "output_type": "execute_result"
    }
   ],
   "source": [
    "combined_data.head()"
   ]
  },
  {
   "cell_type": "markdown",
   "id": "8a1ea047",
   "metadata": {},
   "source": [
    "### Correlation"
   ]
  },
  {
   "cell_type": "markdown",
   "id": "49f941ee",
   "metadata": {},
   "source": [
    "#### Pearson Correlation"
   ]
  },
  {
   "cell_type": "code",
   "execution_count": 61,
   "id": "37c07ab8",
   "metadata": {},
   "outputs": [
    {
     "name": "stdout",
     "output_type": "stream",
     "text": [
      "Pearson correlation between sentiment and daily returns: 0.06176789033830799\n"
     ]
    }
   ],
   "source": [
    "# Pearson correlation\n",
    "correlation = combined_data['sentiment'].corr(combined_data['Daily Returns'])\n",
    "print(f\"Pearson correlation between sentiment and daily returns: {correlation}\")"
   ]
  },
  {
   "cell_type": "code",
   "execution_count": 62,
   "id": "4a7b9c6a",
   "metadata": {},
   "outputs": [
    {
     "name": "stdout",
     "output_type": "stream",
     "text": [
      "Pearson correlation between sentiment and closing price: 0.021010968141555217\n"
     ]
    }
   ],
   "source": [
    "correlation = combined_data['sentiment'].corr(combined_data['Close'])\n",
    "print(f\"Pearson correlation between sentiment and closing price: {correlation}\")"
   ]
  },
  {
   "cell_type": "code",
   "execution_count": 63,
   "id": "d4778371",
   "metadata": {},
   "outputs": [
    {
     "name": "stdout",
     "output_type": "stream",
     "text": [
      "Pearson correlation between lagged sentiment and daily returns: -0.048094976234130254\n"
     ]
    }
   ],
   "source": [
    "combined_data['Lagged sentiment'] = combined_data['sentiment'].shift(1)\n",
    "# Calculate correlation between lagged sentiment and daily returns\n",
    "correlation = combined_data['Lagged sentiment'].corr(combined_data['Daily Returns'])\n",
    "print(f\"Pearson correlation between lagged sentiment and daily returns: {correlation}\")"
   ]
  },
  {
   "cell_type": "markdown",
   "id": "f18e2cbe",
   "metadata": {},
   "source": [
    "##### Summary weak and have positive relationship: sentiment slowly moves the stock price up or down"
   ]
  },
  {
   "cell_type": "markdown",
   "id": "bcd24df8",
   "metadata": {},
   "source": [
    "#### Spearman Correlation"
   ]
  },
  {
   "cell_type": "code",
   "execution_count": 64,
   "id": "77b4d695",
   "metadata": {},
   "outputs": [
    {
     "name": "stdout",
     "output_type": "stream",
     "text": [
      "Spearman correlation between sentiment and daily returns: 0.010098415263394894\n"
     ]
    }
   ],
   "source": [
    "# spearman correlation for sentiment and daily returns\n",
    "correlation = combined_data['sentiment'].corr(combined_data['Daily Returns'], method='spearman')\n",
    "print(f\"Spearman correlation between sentiment and daily returns: {correlation}\")"
   ]
  },
  {
   "cell_type": "code",
   "execution_count": 65,
   "id": "ecf8996b",
   "metadata": {},
   "outputs": [
    {
     "name": "stdout",
     "output_type": "stream",
     "text": [
      "Spearman correlation between sentiment and closing price: 0.05879656469738324\n"
     ]
    }
   ],
   "source": [
    "# spearman correlation for sentiment and closing price\n",
    "correlation = combined_data['sentiment'].corr(combined_data['Close'], method='spearman')\n",
    "print(f\"Spearman correlation between sentiment and closing price: {correlation}\")"
   ]
  },
  {
   "cell_type": "markdown",
   "id": "87fef099",
   "metadata": {},
   "source": [
    "#### Kendall Correlation"
   ]
  },
  {
   "cell_type": "code",
   "execution_count": 66,
   "id": "4a114f49",
   "metadata": {},
   "outputs": [
    {
     "name": "stdout",
     "output_type": "stream",
     "text": [
      "Kendall correlation between sentiment and daily returns: SignificanceResult(statistic=nan, pvalue=nan)\n"
     ]
    }
   ],
   "source": [
    "from scipy.stats import kendalltau\n",
    "# kendall correlation for sentiment and daily returns\n",
    "correlation = kendalltau(combined_data['sentiment'], combined_data['Daily Returns'])\n",
    "print(f\"Kendall correlation between sentiment and daily returns: {correlation}\")"
   ]
  },
  {
   "cell_type": "code",
   "execution_count": 68,
   "id": "9e4130c8",
   "metadata": {},
   "outputs": [
    {
     "name": "stdout",
     "output_type": "stream",
     "text": [
      "Kendall correlation between sentiment and closing price: SignificanceResult(statistic=nan, pvalue=nan)\n"
     ]
    }
   ],
   "source": [
    "correlation = kendalltau(combined_data['sentiment'], combined_data['Close'])\n",
    "print(f\"Kendall correlation between sentiment and closing price: {correlation}\")"
   ]
  },
  {
   "cell_type": "code",
   "execution_count": 72,
   "id": "ba63a9b6",
   "metadata": {},
   "outputs": [
    {
     "name": "stdout",
     "output_type": "stream",
     "text": [
      "Kendall correlation between sentiment and daily returns (filtered): SignificanceResult(statistic=np.float64(0.008836555030171264), pvalue=np.float64(0.8262295038698564))\n"
     ]
    }
   ],
   "source": [
    "# Drop rows with NaNs before computing\n",
    "filtered_data = combined_data[['sentiment', 'Daily Returns']].dropna()\n",
    "correlation = kendalltau(filtered_data['sentiment'], filtered_data['Daily Returns'])\n",
    "print(f\"Kendall correlation between sentiment and daily returns (filtered): {correlation}\")"
   ]
  },
  {
   "cell_type": "markdown",
   "id": "b016e979",
   "metadata": {},
   "source": [
    "Interpretation:\n",
    "\n",
    "- The Pearson correlation between sentiment and daily returns is 0.06176789033830799, indicating a weak positive correlation.\n",
    "- The Spearman correlation between sentiment and daily returns is 0.048094976234130254, indicating a weak positive correlation.\n",
    "- The Kendall correlation between sentiment and daily returns is SignificanceResult(statistic=0.0088, pvalue=0.826), indicating a weak positive correlation."
   ]
  },
  {
   "cell_type": "code",
   "execution_count": 74,
   "id": "dc764b05",
   "metadata": {},
   "outputs": [
    {
     "data": {
      "image/png": "[encoded data removed]",
      "text/plain": [
       "<Figure size 800x600 with 2 Axes>"
      ]
     },
     "metadata": {},
     "output_type": "display_data"
    }
   ],
   "source": [
    "import matplotlib.pyplot as plt\n",
    "import seaborn as sns\n",
    "# Plot correlation heatmap\n",
    "corr_data = combined_data[['sentiment', 'Daily Returns', 'Close']].dropna()\n",
    "\n",
    "# calculate correlation matrix\n",
    "correlation_matrix = corr_data.corr(method='pearson')\n",
    "\n",
    "# plot correlation heatmap\n",
    "plt.figure(figsize=(8, 6))\n",
    "sns.heatmap(correlation_matrix, annot=True, cmap='coolwarm', fmt='.2f', square=True, cbar_kws={\"shrink\": .8})\n",
    "plt.title('Correlation Matix Heatmap')\n",
    "plt.show()"
   ]
  },
  {
   "cell_type": "markdown",
   "id": "8b042be1",
   "metadata": {},
   "source": [
    "# Sentiment Analysis for AMZN"
   ]
  },
  {
   "cell_type": "code",
   "execution_count": 88,
   "id": "2e4a5646",
   "metadata": {},
   "outputs": [],
   "source": [
    "# Load amzn stock data\n",
    "amzn_df = load_stock_data_from_csv(\"../data/yfinance_data/yfinance_data/AMZN_historical_data.csv\")"
   ]
  },
  {
   "cell_type": "code",
   "execution_count": 89,
   "id": "c544a671",
   "metadata": {},
   "outputs": [
    {
     "data": {
      "text/html": [
       "<div>\n",
       "<style scoped>\n",
       "    .dataframe tbody tr th:only-of-type {\n",
       "        vertical-align: middle;\n",
       "    }\n",
       "\n",
       "    .dataframe tbody tr th {\n",
       "        vertical-align: top;\n",
       "    }\n",
       "\n",
       "    .dataframe thead th {\n",
       "        text-align: right;\n",
       "    }\n",
       "</style>\n",
       "<table border=\"1\" class=\"dataframe\">\n",
       "  <thead>\n",
       "    <tr style=\"text-align: right;\">\n",
       "      <th></th>\n",
       "      <th>Open</th>\n",
       "      <th>High</th>\n",
       "      <th>Low</th>\n",
       "      <th>Close</th>\n",
       "      <th>Adj Close</th>\n",
       "      <th>Volume</th>\n",
       "      <th>Dividends</th>\n",
       "      <th>Stock Splits</th>\n",
       "    </tr>\n",
       "    <tr>\n",
       "      <th>Date</th>\n",
       "      <th></th>\n",
       "      <th></th>\n",
       "      <th></th>\n",
       "      <th></th>\n",
       "      <th></th>\n",
       "      <th></th>\n",
       "      <th></th>\n",
       "      <th></th>\n",
       "    </tr>\n",
       "  </thead>\n",
       "  <tbody>\n",
       "    <tr>\n",
       "      <th>1997-05-15</th>\n",
       "      <td>0.121875</td>\n",
       "      <td>0.125000</td>\n",
       "      <td>0.096354</td>\n",
       "      <td>0.097917</td>\n",
       "      <td>0.097917</td>\n",
       "      <td>1443120000</td>\n",
       "      <td>0.0</td>\n",
       "      <td>0.0</td>\n",
       "    </tr>\n",
       "    <tr>\n",
       "      <th>1997-05-16</th>\n",
       "      <td>0.098438</td>\n",
       "      <td>0.098958</td>\n",
       "      <td>0.085417</td>\n",
       "      <td>0.086458</td>\n",
       "      <td>0.086458</td>\n",
       "      <td>294000000</td>\n",
       "      <td>0.0</td>\n",
       "      <td>0.0</td>\n",
       "    </tr>\n",
       "    <tr>\n",
       "      <th>1997-05-19</th>\n",
       "      <td>0.088021</td>\n",
       "      <td>0.088542</td>\n",
       "      <td>0.081250</td>\n",
       "      <td>0.085417</td>\n",
       "      <td>0.085417</td>\n",
       "      <td>122136000</td>\n",
       "      <td>0.0</td>\n",
       "      <td>0.0</td>\n",
       "    </tr>\n",
       "    <tr>\n",
       "      <th>1997-05-20</th>\n",
       "      <td>0.086458</td>\n",
       "      <td>0.087500</td>\n",
       "      <td>0.081771</td>\n",
       "      <td>0.081771</td>\n",
       "      <td>0.081771</td>\n",
       "      <td>109344000</td>\n",
       "      <td>0.0</td>\n",
       "      <td>0.0</td>\n",
       "    </tr>\n",
       "    <tr>\n",
       "      <th>1997-05-21</th>\n",
       "      <td>0.081771</td>\n",
       "      <td>0.082292</td>\n",
       "      <td>0.068750</td>\n",
       "      <td>0.071354</td>\n",
       "      <td>0.071354</td>\n",
       "      <td>377064000</td>\n",
       "      <td>0.0</td>\n",
       "      <td>0.0</td>\n",
       "    </tr>\n",
       "  </tbody>\n",
       "</table>\n",
       "</div>"
      ],
      "text/plain": [
       "                Open      High       Low     Close  Adj Close      Volume  \\\n",
       "Date                                                                        \n",
       "1997-05-15  0.121875  0.125000  0.096354  0.097917   0.097917  1443120000   \n",
       "1997-05-16  0.098438  0.098958  0.085417  0.086458   0.086458   294000000   \n",
       "1997-05-19  0.088021  0.088542  0.081250  0.085417   0.085417   122136000   \n",
       "1997-05-20  0.086458  0.087500  0.081771  0.081771   0.081771   109344000   \n",
       "1997-05-21  0.081771  0.082292  0.068750  0.071354   0.071354   377064000   \n",
       "\n",
       "            Dividends  Stock Splits  \n",
       "Date                                 \n",
       "1997-05-15        0.0           0.0  \n",
       "1997-05-16        0.0           0.0  \n",
       "1997-05-19        0.0           0.0  \n",
       "1997-05-20        0.0           0.0  \n",
       "1997-05-21        0.0           0.0  "
      ]
     },
     "execution_count": 89,
     "metadata": {},
     "output_type": "execute_result"
    }
   ],
   "source": [
    "amzn_df.head()"
   ]
  },
  {
   "cell_type": "markdown",
   "id": "493e752f",
   "metadata": {},
   "source": [
    "#### Combine sentiment with closing price on the same day"
   ]
  },
  {
   "cell_type": "code",
   "execution_count": null,
   "id": "7dd063e6",
   "metadata": {},
   "outputs": [],
   "source": [
    "# filter amzn news\n",
    "amzn_news_df = news_df[news_df['stock'] == 'AMZN']"
   ]
  },
  {
   "cell_type": "code",
   "execution_count": 92,
   "id": "627efb28",
   "metadata": {},
   "outputs": [
    {
     "data": {
      "text/html": [
       "<div>\n",
       "<style scoped>\n",
       "    .dataframe tbody tr th:only-of-type {\n",
       "        vertical-align: middle;\n",
       "    }\n",
       "\n",
       "    .dataframe tbody tr th {\n",
       "        vertical-align: top;\n",
       "    }\n",
       "\n",
       "    .dataframe thead th {\n",
       "        text-align: right;\n",
       "    }\n",
       "</style>\n",
       "<table border=\"1\" class=\"dataframe\">\n",
       "  <thead>\n",
       "    <tr style=\"text-align: right;\">\n",
       "      <th></th>\n",
       "      <th>headline</th>\n",
       "      <th>url</th>\n",
       "      <th>publisher</th>\n",
       "      <th>date</th>\n",
       "      <th>stock</th>\n",
       "      <th>date_only</th>\n",
       "      <th>sentiment</th>\n",
       "    </tr>\n",
       "  </thead>\n",
       "  <tbody>\n",
       "    <tr>\n",
       "      <th>76177</th>\n",
       "      <td>How Cannabis Company Cannaphyll Is Marketing O...</td>\n",
       "      <td>https://www.benzinga.com/markets/cannabis/20/0...</td>\n",
       "      <td>Jaycee Tenn</td>\n",
       "      <td>2020-06-10</td>\n",
       "      <td>AMZN</td>\n",
       "      <td>2020-06-10</td>\n",
       "      <td>0.1779</td>\n",
       "    </tr>\n",
       "    <tr>\n",
       "      <th>76178</th>\n",
       "      <td>Tech Stocks And FAANGS Strong Again To Start D...</td>\n",
       "      <td>https://www.benzinga.com/government/20/06/1622...</td>\n",
       "      <td>JJ Kinahan</td>\n",
       "      <td>2020-06-10</td>\n",
       "      <td>AMZN</td>\n",
       "      <td>2020-06-10</td>\n",
       "      <td>0.5574</td>\n",
       "    </tr>\n",
       "    <tr>\n",
       "      <th>76179</th>\n",
       "      <td>Benzinga Pro's Top 5 Stocks To Watch For Wed.,...</td>\n",
       "      <td>https://www.benzinga.com/short-sellers/20/06/1...</td>\n",
       "      <td>Benzinga Newsdesk</td>\n",
       "      <td>2020-06-10</td>\n",
       "      <td>AMZN</td>\n",
       "      <td>2020-06-10</td>\n",
       "      <td>0.2023</td>\n",
       "    </tr>\n",
       "    <tr>\n",
       "      <th>76180</th>\n",
       "      <td>Hearing Vertical Group Out Positive On Amazon,...</td>\n",
       "      <td>https://www.benzinga.com/analyst-ratings/analy...</td>\n",
       "      <td>Benzinga Newsdesk</td>\n",
       "      <td>2020-06-10</td>\n",
       "      <td>AMZN</td>\n",
       "      <td>2020-06-10</td>\n",
       "      <td>0.6486</td>\n",
       "    </tr>\n",
       "    <tr>\n",
       "      <th>76181</th>\n",
       "      <td>Big Tech Reaches New Record Heights At The Sto...</td>\n",
       "      <td>https://www.benzinga.com/news/20/06/16218615/b...</td>\n",
       "      <td>Neer Varshney</td>\n",
       "      <td>2020-06-10</td>\n",
       "      <td>AMZN</td>\n",
       "      <td>2020-06-10</td>\n",
       "      <td>0.0516</td>\n",
       "    </tr>\n",
       "  </tbody>\n",
       "</table>\n",
       "</div>"
      ],
      "text/plain": [
       "                                                headline  \\\n",
       "76177  How Cannabis Company Cannaphyll Is Marketing O...   \n",
       "76178  Tech Stocks And FAANGS Strong Again To Start D...   \n",
       "76179  Benzinga Pro's Top 5 Stocks To Watch For Wed.,...   \n",
       "76180  Hearing Vertical Group Out Positive On Amazon,...   \n",
       "76181  Big Tech Reaches New Record Heights At The Sto...   \n",
       "\n",
       "                                                     url          publisher  \\\n",
       "76177  https://www.benzinga.com/markets/cannabis/20/0...        Jaycee Tenn   \n",
       "76178  https://www.benzinga.com/government/20/06/1622...         JJ Kinahan   \n",
       "76179  https://www.benzinga.com/short-sellers/20/06/1...  Benzinga Newsdesk   \n",
       "76180  https://www.benzinga.com/analyst-ratings/analy...  Benzinga Newsdesk   \n",
       "76181  https://www.benzinga.com/news/20/06/16218615/b...      Neer Varshney   \n",
       "\n",
       "             date stock   date_only  sentiment  \n",
       "76177  2020-06-10  AMZN  2020-06-10     0.1779  \n",
       "76178  2020-06-10  AMZN  2020-06-10     0.5574  \n",
       "76179  2020-06-10  AMZN  2020-06-10     0.2023  \n",
       "76180  2020-06-10  AMZN  2020-06-10     0.6486  \n",
       "76181  2020-06-10  AMZN  2020-06-10     0.0516  "
      ]
     },
     "execution_count": 92,
     "metadata": {},
     "output_type": "execute_result"
    }
   ],
   "source": [
    "amzn_news_df.head()"
   ]
  },
  {
   "cell_type": "code",
   "execution_count": 94,
   "id": "62340558",
   "metadata": {},
   "outputs": [],
   "source": [
    "# Aligning sentiment scores with the stock closing prices on the same date\n",
    "combined_data_amzn = amzn_news_df.set_index('date').join(amzn_df['Close'])"
   ]
  },
  {
   "cell_type": "code",
   "execution_count": null,
   "id": "6ddde2bd",
   "metadata": {},
   "outputs": [],
   "source": [
    "amzn_news_df['date_for_merge'] = pd.to_datetime(amzn_news_df['date_only'])"
   ]
  },
  {
   "cell_type": "code",
   "execution_count": 96,
   "id": "b6628d99",
   "metadata": {},
   "outputs": [],
   "source": [
    "# convert amzn_df's index to datetime if it's not already\n",
    "amzn_df.index = pd.to_datetime(amzn_df.index)"
   ]
  },
  {
   "cell_type": "code",
   "execution_count": 97,
   "id": "2fc77bc0",
   "metadata": {},
   "outputs": [],
   "source": [
    "combined_data_amzn = pd.merge(\n",
    "    amzn_news_df,\n",
    "    amzn_df[['Close']], # Select only 'Close' from amzn_df; its index 'Date' is implicitly used\n",
    "    left_on='date_for_merge', # Column from the left DataFrame (amzn_news_df)\n",
    "    right_index=True,        # Use the index of the right DataFrame (amzn_df)\n",
    "    how='left'               # Keep all news entries\n",
    ")"
   ]
  },
  {
   "cell_type": "code",
   "execution_count": 98,
   "id": "5e0d0990",
   "metadata": {},
   "outputs": [],
   "source": [
    "# clean up and rename\n",
    "combined_data_amzn = combined_data_amzn.drop(columns=['date_for_merge', 'date_only'], errors='ignore')"
   ]
  },
  {
   "cell_type": "code",
   "execution_count": 99,
   "id": "1f812bba",
   "metadata": {},
   "outputs": [
    {
     "data": {
      "text/html": [
       "<div>\n",
       "<style scoped>\n",
       "    .dataframe tbody tr th:only-of-type {\n",
       "        vertical-align: middle;\n",
       "    }\n",
       "\n",
       "    .dataframe tbody tr th {\n",
       "        vertical-align: top;\n",
       "    }\n",
       "\n",
       "    .dataframe thead th {\n",
       "        text-align: right;\n",
       "    }\n",
       "</style>\n",
       "<table border=\"1\" class=\"dataframe\">\n",
       "  <thead>\n",
       "    <tr style=\"text-align: right;\">\n",
       "      <th></th>\n",
       "      <th>headline</th>\n",
       "      <th>url</th>\n",
       "      <th>publisher</th>\n",
       "      <th>date</th>\n",
       "      <th>stock</th>\n",
       "      <th>sentiment</th>\n",
       "      <th>Close</th>\n",
       "    </tr>\n",
       "  </thead>\n",
       "  <tbody>\n",
       "    <tr>\n",
       "      <th>76177</th>\n",
       "      <td>How Cannabis Company Cannaphyll Is Marketing O...</td>\n",
       "      <td>https://www.benzinga.com/markets/cannabis/20/0...</td>\n",
       "      <td>Jaycee Tenn</td>\n",
       "      <td>2020-06-10</td>\n",
       "      <td>AMZN</td>\n",
       "      <td>0.1779</td>\n",
       "      <td>132.372498</td>\n",
       "    </tr>\n",
       "    <tr>\n",
       "      <th>76178</th>\n",
       "      <td>Tech Stocks And FAANGS Strong Again To Start D...</td>\n",
       "      <td>https://www.benzinga.com/government/20/06/1622...</td>\n",
       "      <td>JJ Kinahan</td>\n",
       "      <td>2020-06-10</td>\n",
       "      <td>AMZN</td>\n",
       "      <td>0.5574</td>\n",
       "      <td>132.372498</td>\n",
       "    </tr>\n",
       "    <tr>\n",
       "      <th>76179</th>\n",
       "      <td>Benzinga Pro's Top 5 Stocks To Watch For Wed.,...</td>\n",
       "      <td>https://www.benzinga.com/short-sellers/20/06/1...</td>\n",
       "      <td>Benzinga Newsdesk</td>\n",
       "      <td>2020-06-10</td>\n",
       "      <td>AMZN</td>\n",
       "      <td>0.2023</td>\n",
       "      <td>132.372498</td>\n",
       "    </tr>\n",
       "    <tr>\n",
       "      <th>76180</th>\n",
       "      <td>Hearing Vertical Group Out Positive On Amazon,...</td>\n",
       "      <td>https://www.benzinga.com/analyst-ratings/analy...</td>\n",
       "      <td>Benzinga Newsdesk</td>\n",
       "      <td>2020-06-10</td>\n",
       "      <td>AMZN</td>\n",
       "      <td>0.6486</td>\n",
       "      <td>132.372498</td>\n",
       "    </tr>\n",
       "    <tr>\n",
       "      <th>76181</th>\n",
       "      <td>Big Tech Reaches New Record Heights At The Sto...</td>\n",
       "      <td>https://www.benzinga.com/news/20/06/16218615/b...</td>\n",
       "      <td>Neer Varshney</td>\n",
       "      <td>2020-06-10</td>\n",
       "      <td>AMZN</td>\n",
       "      <td>0.0516</td>\n",
       "      <td>132.372498</td>\n",
       "    </tr>\n",
       "  </tbody>\n",
       "</table>\n",
       "</div>"
      ],
      "text/plain": [
       "                                                headline  \\\n",
       "76177  How Cannabis Company Cannaphyll Is Marketing O...   \n",
       "76178  Tech Stocks And FAANGS Strong Again To Start D...   \n",
       "76179  Benzinga Pro's Top 5 Stocks To Watch For Wed.,...   \n",
       "76180  Hearing Vertical Group Out Positive On Amazon,...   \n",
       "76181  Big Tech Reaches New Record Heights At The Sto...   \n",
       "\n",
       "                                                     url          publisher  \\\n",
       "76177  https://www.benzinga.com/markets/cannabis/20/0...        Jaycee Tenn   \n",
       "76178  https://www.benzinga.com/government/20/06/1622...         JJ Kinahan   \n",
       "76179  https://www.benzinga.com/short-sellers/20/06/1...  Benzinga Newsdesk   \n",
       "76180  https://www.benzinga.com/analyst-ratings/analy...  Benzinga Newsdesk   \n",
       "76181  https://www.benzinga.com/news/20/06/16218615/b...      Neer Varshney   \n",
       "\n",
       "             date stock  sentiment       Close  \n",
       "76177  2020-06-10  AMZN     0.1779  132.372498  \n",
       "76178  2020-06-10  AMZN     0.5574  132.372498  \n",
       "76179  2020-06-10  AMZN     0.2023  132.372498  \n",
       "76180  2020-06-10  AMZN     0.6486  132.372498  \n",
       "76181  2020-06-10  AMZN     0.0516  132.372498  "
      ]
     },
     "execution_count": 99,
     "metadata": {},
     "output_type": "execute_result"
    }
   ],
   "source": [
    "combined_data_amzn.head()"
   ]
  },
  {
   "cell_type": "code",
   "execution_count": null,
   "id": "ec1f6050",
   "metadata": {},
   "outputs": [],
   "source": [
    "# Calculate daily return using pct_change() method of pandas DataFrame\n",
    "combined_data_amzn['Daily Returns'] = combined_data_amzn['Close'].pct_change()"
   ]
  },
  {
   "cell_type": "markdown",
   "id": "d3f3173f",
   "metadata": {},
   "source": [
    "## Correlation Analysis"
   ]
  },
  {
   "cell_type": "markdown",
   "id": "2708acc8",
   "metadata": {},
   "source": [
    "##### Pearson Correlation"
   ]
  },
  {
   "cell_type": "code",
   "execution_count": 101,
   "id": "f6065f31",
   "metadata": {},
   "outputs": [
    {
     "name": "stdout",
     "output_type": "stream",
     "text": [
      "Pearson correlation between sentiment and daily returns: 0.03469219273354438\n"
     ]
    }
   ],
   "source": [
    "# Pearson correlation\n",
    "correlation = combined_data_amzn['sentiment'].corr(combined_data_amzn['Daily Returns'])\n",
    "print(f\"Pearson correlation between sentiment and daily returns: {correlation}\")"
   ]
  },
  {
   "cell_type": "code",
   "execution_count": 102,
   "id": "fbf118fb",
   "metadata": {},
   "outputs": [
    {
     "name": "stdout",
     "output_type": "stream",
     "text": [
      "Pearson correlation between sentiment and closing price: 0.10583319446836052\n"
     ]
    }
   ],
   "source": [
    "correlation = combined_data_amzn['sentiment'].corr(combined_data_amzn['Close'])\n",
    "print(f\"Pearson correlation between sentiment and closing price: {correlation}\")"
   ]
  },
  {
   "cell_type": "markdown",
   "id": "c26aa188",
   "metadata": {},
   "source": [
    "Summary: The Pearson correlation between sentiment and daily returns is 0.06176789033830799, indicating a weak positive correlation."
   ]
  },
  {
   "cell_type": "markdown",
   "id": "bfab6af8",
   "metadata": {},
   "source": [
    "##### Spearman Correlation"
   ]
  },
  {
   "cell_type": "code",
   "execution_count": 103,
   "id": "c46496eb",
   "metadata": {},
   "outputs": [
    {
     "name": "stdout",
     "output_type": "stream",
     "text": [
      "Spearman correlation between sentiment and daily returns: 0.02326916223672216\n"
     ]
    }
   ],
   "source": [
    "# spearman correlation for sentiment and daily returns\n",
    "correlation = combined_data_amzn['sentiment'].corr(combined_data_amzn['Daily Returns'], method='spearman')\n",
    "print(f\"Spearman correlation between sentiment and daily returns: {correlation}\")"
   ]
  },
  {
   "cell_type": "code",
   "execution_count": 104,
   "id": "f71201e9",
   "metadata": {},
   "outputs": [
    {
     "name": "stdout",
     "output_type": "stream",
     "text": [
      "Spearman correlation between sentiment and closing price: 0.12542983269519525\n"
     ]
    }
   ],
   "source": [
    "# spearman correlation for sentiment and closing price\n",
    "correlation = combined_data_amzn['sentiment'].corr(combined_data_amzn['Close'], method='spearman')\n",
    "print(f\"Spearman correlation between sentiment and closing price: {correlation}\")"
   ]
  },
  {
   "cell_type": "markdown",
   "id": "079e63d0",
   "metadata": {},
   "source": [
    "Summary: The Spearman correlation between sentiment and daily returns is 0.048094976234130254, indicating a weak positive correlation."
   ]
  },
  {
   "cell_type": "markdown",
   "id": "f5170999",
   "metadata": {},
   "source": [
    "##### Kendall Correlation"
   ]
  },
  {
   "cell_type": "code",
   "execution_count": 105,
   "id": "1c402552",
   "metadata": {},
   "outputs": [
    {
     "name": "stdout",
     "output_type": "stream",
     "text": [
      "Kendall correlation between sentiment and daily returns: SignificanceResult(statistic=nan, pvalue=nan)\n"
     ]
    }
   ],
   "source": [
    "# kendall correlation for sentiment and daily returns\n",
    "correlation = kendalltau(combined_data_amzn['sentiment'], combined_data_amzn['Daily Returns'])\n",
    "print(f\"Kendall correlation between sentiment and daily returns: {correlation}\")"
   ]
  },
  {
   "cell_type": "code",
   "execution_count": 106,
   "id": "a8fe8dc1",
   "metadata": {},
   "outputs": [
    {
     "name": "stdout",
     "output_type": "stream",
     "text": [
      "Kendall correlation between sentiment and closing price: SignificanceResult(statistic=nan, pvalue=nan)\n"
     ]
    }
   ],
   "source": [
    "correlation = kendalltau(combined_data_amzn['sentiment'], combined_data_amzn['Close'])\n",
    "print(f\"Kendall correlation between sentiment and closing price: {correlation}\")"
   ]
  },
  {
   "cell_type": "code",
   "execution_count": 107,
   "id": "9ee17940",
   "metadata": {},
   "outputs": [
    {
     "name": "stdout",
     "output_type": "stream",
     "text": [
      "Kendall correlation between sentiment and daily returns (filtered): SignificanceResult(statistic=np.float64(0.019540027108955527), pvalue=np.float64(0.6994108779583739))\n"
     ]
    }
   ],
   "source": [
    "# Drop rows with NaNs before computing\n",
    "filtered_data = combined_data_amzn[['sentiment', 'Daily Returns']].dropna()\n",
    "correlation = kendalltau(filtered_data['sentiment'], filtered_data['Daily Returns'])\n",
    "print(f\"Kendall correlation between sentiment and daily returns (filtered): {correlation}\")"
   ]
  },
  {
   "cell_type": "markdown",
   "id": "db5949d6",
   "metadata": {},
   "source": [
    "Interpretation:\n",
    "\n",
    "- The Pearson correlation between sentiment and daily returns is 0.06176789033830799, indicating a weak positive correlation.\n",
    "- The Spearman correlation between sentiment and daily returns is 0.048094976234130254, indicating a weak positive correlation.\n",
    "- The Kendall correlation between sentiment and daily returns is SignificanceResult(statistic=0.01954), pvalue=0.696), indicating a weak positive correlation."
   ]
  },
  {
   "cell_type": "code",
   "execution_count": 108,
   "id": "8282db9a",
   "metadata": {},
   "outputs": [
    {
     "data": {
      "image/png": "[encoded data removed]",
      "text/plain": [
       "<Figure size 800x600 with 2 Axes>"
      ]
     },
     "metadata": {},
     "output_type": "display_data"
    }
   ],
   "source": [
    "# Plot correlation heatmap\n",
    "corr_data = combined_data_amzn[['sentiment', 'Daily Returns', 'Close']].dropna()\n",
    "\n",
    "# calculate correlation matrix\n",
    "correlation_matrix = corr_data.corr(method='pearson')\n",
    "\n",
    "# plot correlation heatmap\n",
    "plt.figure(figsize=(8, 6))\n",
    "sns.heatmap(correlation_matrix, annot=True, cmap='coolwarm', fmt='.2f', square=True, cbar_kws={\"shrink\": .8})\n",
    "plt.title('Correlation Matix Heatmap')\n",
    "plt.show()"
   ]
  },
  {
   "cell_type": "markdown",
   "id": "9f7e874d",
   "metadata": {},
   "source": [
    "# Sentiment Analysis for MSFT"
   ]
  },
  {
   "cell_type": "code",
   "execution_count": 34,
   "id": "bfdaba9f",
   "metadata": {},
   "outputs": [],
   "source": [
    "# Load stock data\n",
    "msft_df = load_stock_data_from_csv(\"../data/yfinance_data/yfinance_data/MSFT_historical_data.csv\")"
   ]
  },
  {
   "cell_type": "code",
   "execution_count": 35,
   "id": "081a6c87",
   "metadata": {},
   "outputs": [
    {
     "data": {
      "text/html": [
       "<div>\n",
       "<style scoped>\n",
       "    .dataframe tbody tr th:only-of-type {\n",
       "        vertical-align: middle;\n",
       "    }\n",
       "\n",
       "    .dataframe tbody tr th {\n",
       "        vertical-align: top;\n",
       "    }\n",
       "\n",
       "    .dataframe thead th {\n",
       "        text-align: right;\n",
       "    }\n",
       "</style>\n",
       "<table border=\"1\" class=\"dataframe\">\n",
       "  <thead>\n",
       "    <tr style=\"text-align: right;\">\n",
       "      <th></th>\n",
       "      <th>Open</th>\n",
       "      <th>High</th>\n",
       "      <th>Low</th>\n",
       "      <th>Close</th>\n",
       "      <th>Adj Close</th>\n",
       "      <th>Volume</th>\n",
       "      <th>Dividends</th>\n",
       "      <th>Stock Splits</th>\n",
       "    </tr>\n",
       "    <tr>\n",
       "      <th>Date</th>\n",
       "      <th></th>\n",
       "      <th></th>\n",
       "      <th></th>\n",
       "      <th></th>\n",
       "      <th></th>\n",
       "      <th></th>\n",
       "      <th></th>\n",
       "      <th></th>\n",
       "    </tr>\n",
       "  </thead>\n",
       "  <tbody>\n",
       "    <tr>\n",
       "      <th>1986-03-13</th>\n",
       "      <td>0.088542</td>\n",
       "      <td>0.101563</td>\n",
       "      <td>0.088542</td>\n",
       "      <td>0.097222</td>\n",
       "      <td>0.059946</td>\n",
       "      <td>1031788800</td>\n",
       "      <td>0.0</td>\n",
       "      <td>0.0</td>\n",
       "    </tr>\n",
       "    <tr>\n",
       "      <th>1986-03-14</th>\n",
       "      <td>0.097222</td>\n",
       "      <td>0.102431</td>\n",
       "      <td>0.097222</td>\n",
       "      <td>0.100694</td>\n",
       "      <td>0.062087</td>\n",
       "      <td>308160000</td>\n",
       "      <td>0.0</td>\n",
       "      <td>0.0</td>\n",
       "    </tr>\n",
       "    <tr>\n",
       "      <th>1986-03-17</th>\n",
       "      <td>0.100694</td>\n",
       "      <td>0.103299</td>\n",
       "      <td>0.100694</td>\n",
       "      <td>0.102431</td>\n",
       "      <td>0.063158</td>\n",
       "      <td>133171200</td>\n",
       "      <td>0.0</td>\n",
       "      <td>0.0</td>\n",
       "    </tr>\n",
       "    <tr>\n",
       "      <th>1986-03-18</th>\n",
       "      <td>0.102431</td>\n",
       "      <td>0.103299</td>\n",
       "      <td>0.098958</td>\n",
       "      <td>0.099826</td>\n",
       "      <td>0.061552</td>\n",
       "      <td>67766400</td>\n",
       "      <td>0.0</td>\n",
       "      <td>0.0</td>\n",
       "    </tr>\n",
       "    <tr>\n",
       "      <th>1986-03-19</th>\n",
       "      <td>0.099826</td>\n",
       "      <td>0.100694</td>\n",
       "      <td>0.097222</td>\n",
       "      <td>0.098090</td>\n",
       "      <td>0.060482</td>\n",
       "      <td>47894400</td>\n",
       "      <td>0.0</td>\n",
       "      <td>0.0</td>\n",
       "    </tr>\n",
       "  </tbody>\n",
       "</table>\n",
       "</div>"
      ],
      "text/plain": [
       "                Open      High       Low     Close  Adj Close      Volume  \\\n",
       "Date                                                                        \n",
       "1986-03-13  0.088542  0.101563  0.088542  0.097222   0.059946  1031788800   \n",
       "1986-03-14  0.097222  0.102431  0.097222  0.100694   0.062087   308160000   \n",
       "1986-03-17  0.100694  0.103299  0.100694  0.102431   0.063158   133171200   \n",
       "1986-03-18  0.102431  0.103299  0.098958  0.099826   0.061552    67766400   \n",
       "1986-03-19  0.099826  0.100694  0.097222  0.098090   0.060482    47894400   \n",
       "\n",
       "            Dividends  Stock Splits  \n",
       "Date                                 \n",
       "1986-03-13        0.0           0.0  \n",
       "1986-03-14        0.0           0.0  \n",
       "1986-03-17        0.0           0.0  \n",
       "1986-03-18        0.0           0.0  \n",
       "1986-03-19        0.0           0.0  "
      ]
     },
     "execution_count": 35,
     "metadata": {},
     "output_type": "execute_result"
    }
   ],
   "source": [
    "msft_df.head()"
   ]
  },
  {
   "cell_type": "markdown",
   "id": "4ed48f5e",
   "metadata": {},
   "source": [
    "#### Combine sentiment with stock closing prices on the same date"
   ]
  },
  {
   "cell_type": "code",
   "execution_count": 36,
   "id": "4e7500c5",
   "metadata": {},
   "outputs": [],
   "source": [
    "# filter msft news\n",
    "msft_news_df = news_df[news_df['stock'] == 'MSFT']"
   ]
  },
  {
   "cell_type": "code",
   "execution_count": 40,
   "id": "7b2496a3",
   "metadata": {},
   "outputs": [
    {
     "name": "stdout",
     "output_type": "stream",
     "text": [
      "No news data available for MSFT.\n"
     ]
    }
   ],
   "source": [
    "# check if there are any news for msft\n",
    "if news_df[news_df['stock'] == 'MSFT'].empty:\n",
    "    print(\"No news data available for MSFT.\")"
   ]
  },
  {
   "cell_type": "markdown",
   "id": "cf8a7fff",
   "metadata": {},
   "source": [
    "Summary: No news data available for MSFT."
   ]
  },
  {
   "cell_type": "markdown",
   "id": "2640ecc6",
   "metadata": {},
   "source": [
    "# Sentiment Analysis for NVDA"
   ]
  },
  {
   "cell_type": "code",
   "execution_count": 41,
   "id": "47bd2e66",
   "metadata": {},
   "outputs": [],
   "source": [
    "# Load stock data for NVDA\n",
    "nvda_df = load_stock_data_from_csv(\"../data/yfinance_data/yfinance_data/NVDA_historical_data.csv\")"
   ]
  },
  {
   "cell_type": "code",
   "execution_count": 42,
   "id": "713e0330",
   "metadata": {},
   "outputs": [
    {
     "data": {
      "text/html": [
       "<div>\n",
       "<style scoped>\n",
       "    .dataframe tbody tr th:only-of-type {\n",
       "        vertical-align: middle;\n",
       "    }\n",
       "\n",
       "    .dataframe tbody tr th {\n",
       "        vertical-align: top;\n",
       "    }\n",
       "\n",
       "    .dataframe thead th {\n",
       "        text-align: right;\n",
       "    }\n",
       "</style>\n",
       "<table border=\"1\" class=\"dataframe\">\n",
       "  <thead>\n",
       "    <tr style=\"text-align: right;\">\n",
       "      <th></th>\n",
       "      <th>Open</th>\n",
       "      <th>High</th>\n",
       "      <th>Low</th>\n",
       "      <th>Close</th>\n",
       "      <th>Adj Close</th>\n",
       "      <th>Volume</th>\n",
       "      <th>Dividends</th>\n",
       "      <th>Stock Splits</th>\n",
       "    </tr>\n",
       "    <tr>\n",
       "      <th>Date</th>\n",
       "      <th></th>\n",
       "      <th></th>\n",
       "      <th></th>\n",
       "      <th></th>\n",
       "      <th></th>\n",
       "      <th></th>\n",
       "      <th></th>\n",
       "      <th></th>\n",
       "    </tr>\n",
       "  </thead>\n",
       "  <tbody>\n",
       "    <tr>\n",
       "      <th>1999-01-22</th>\n",
       "      <td>0.043750</td>\n",
       "      <td>0.048828</td>\n",
       "      <td>0.038802</td>\n",
       "      <td>0.041016</td>\n",
       "      <td>0.037621</td>\n",
       "      <td>2714688000</td>\n",
       "      <td>0.0</td>\n",
       "      <td>0.0</td>\n",
       "    </tr>\n",
       "    <tr>\n",
       "      <th>1999-01-25</th>\n",
       "      <td>0.044271</td>\n",
       "      <td>0.045833</td>\n",
       "      <td>0.041016</td>\n",
       "      <td>0.045313</td>\n",
       "      <td>0.041562</td>\n",
       "      <td>510480000</td>\n",
       "      <td>0.0</td>\n",
       "      <td>0.0</td>\n",
       "    </tr>\n",
       "    <tr>\n",
       "      <th>1999-01-26</th>\n",
       "      <td>0.045833</td>\n",
       "      <td>0.046745</td>\n",
       "      <td>0.041146</td>\n",
       "      <td>0.041797</td>\n",
       "      <td>0.038337</td>\n",
       "      <td>343200000</td>\n",
       "      <td>0.0</td>\n",
       "      <td>0.0</td>\n",
       "    </tr>\n",
       "    <tr>\n",
       "      <th>1999-01-27</th>\n",
       "      <td>0.041927</td>\n",
       "      <td>0.042969</td>\n",
       "      <td>0.039583</td>\n",
       "      <td>0.041667</td>\n",
       "      <td>0.038218</td>\n",
       "      <td>244368000</td>\n",
       "      <td>0.0</td>\n",
       "      <td>0.0</td>\n",
       "    </tr>\n",
       "    <tr>\n",
       "      <th>1999-01-28</th>\n",
       "      <td>0.041667</td>\n",
       "      <td>0.041927</td>\n",
       "      <td>0.041276</td>\n",
       "      <td>0.041536</td>\n",
       "      <td>0.038098</td>\n",
       "      <td>227520000</td>\n",
       "      <td>0.0</td>\n",
       "      <td>0.0</td>\n",
       "    </tr>\n",
       "  </tbody>\n",
       "</table>\n",
       "</div>"
      ],
      "text/plain": [
       "                Open      High       Low     Close  Adj Close      Volume  \\\n",
       "Date                                                                        \n",
       "1999-01-22  0.043750  0.048828  0.038802  0.041016   0.037621  2714688000   \n",
       "1999-01-25  0.044271  0.045833  0.041016  0.045313   0.041562   510480000   \n",
       "1999-01-26  0.045833  0.046745  0.041146  0.041797   0.038337   343200000   \n",
       "1999-01-27  0.041927  0.042969  0.039583  0.041667   0.038218   244368000   \n",
       "1999-01-28  0.041667  0.041927  0.041276  0.041536   0.038098   227520000   \n",
       "\n",
       "            Dividends  Stock Splits  \n",
       "Date                                 \n",
       "1999-01-22        0.0           0.0  \n",
       "1999-01-25        0.0           0.0  \n",
       "1999-01-26        0.0           0.0  \n",
       "1999-01-27        0.0           0.0  \n",
       "1999-01-28        0.0           0.0  "
      ]
     },
     "execution_count": 42,
     "metadata": {},
     "output_type": "execute_result"
    }
   ],
   "source": [
    "nvda_df.head()"
   ]
  },
  {
   "cell_type": "markdown",
   "id": "75820953",
   "metadata": {},
   "source": [
    "#### Combine sentiment with stock closing prices on the same date"
   ]
  },
  {
   "cell_type": "code",
   "execution_count": 43,
   "id": "e050a9ac",
   "metadata": {},
   "outputs": [],
   "source": [
    "# filter nvda news\n",
    "nvda_news_df = news_df[news_df['stock'] == 'NVDA']"
   ]
  },
  {
   "cell_type": "code",
   "execution_count": 45,
   "id": "226691e9",
   "metadata": {},
   "outputs": [
    {
     "data": {
      "text/html": [
       "<div>\n",
       "<style scoped>\n",
       "    .dataframe tbody tr th:only-of-type {\n",
       "        vertical-align: middle;\n",
       "    }\n",
       "\n",
       "    .dataframe tbody tr th {\n",
       "        vertical-align: top;\n",
       "    }\n",
       "\n",
       "    .dataframe thead th {\n",
       "        text-align: right;\n",
       "    }\n",
       "</style>\n",
       "<table border=\"1\" class=\"dataframe\">\n",
       "  <thead>\n",
       "    <tr style=\"text-align: right;\">\n",
       "      <th></th>\n",
       "      <th>headline</th>\n",
       "      <th>url</th>\n",
       "      <th>publisher</th>\n",
       "      <th>date</th>\n",
       "      <th>stock</th>\n",
       "      <th>sentiment</th>\n",
       "      <th>date_only</th>\n",
       "    </tr>\n",
       "  </thead>\n",
       "  <tbody>\n",
       "    <tr>\n",
       "      <th>924271</th>\n",
       "      <td>Shares of several technology companies are tra...</td>\n",
       "      <td>https://www.benzinga.com/wiim/20/06/16224173/s...</td>\n",
       "      <td>Benzinga Newsdesk</td>\n",
       "      <td>2020-06-10</td>\n",
       "      <td>NVDA</td>\n",
       "      <td>0.7296</td>\n",
       "      <td>2020-06-10</td>\n",
       "    </tr>\n",
       "    <tr>\n",
       "      <th>924272</th>\n",
       "      <td>Afternoon Market Stats in 5 Minutes</td>\n",
       "      <td>https://www.benzinga.com/markets/20/06/1622357...</td>\n",
       "      <td>Benzinga Insights</td>\n",
       "      <td>2020-06-10</td>\n",
       "      <td>NVDA</td>\n",
       "      <td>0.0000</td>\n",
       "      <td>2020-06-10</td>\n",
       "    </tr>\n",
       "    <tr>\n",
       "      <th>924273</th>\n",
       "      <td>Morning Market Stats in 5 Minutes</td>\n",
       "      <td>https://www.benzinga.com/markets/20/06/1622174...</td>\n",
       "      <td>Benzinga Insights</td>\n",
       "      <td>2020-06-10</td>\n",
       "      <td>NVDA</td>\n",
       "      <td>0.0000</td>\n",
       "      <td>2020-06-10</td>\n",
       "    </tr>\n",
       "    <tr>\n",
       "      <th>924274</th>\n",
       "      <td>Shares of several technology companies are tra...</td>\n",
       "      <td>https://www.benzinga.com/wiim/20/06/16214789/s...</td>\n",
       "      <td>Benzinga Newsdesk</td>\n",
       "      <td>2020-06-09</td>\n",
       "      <td>NVDA</td>\n",
       "      <td>0.7296</td>\n",
       "      <td>2020-06-09</td>\n",
       "    </tr>\n",
       "    <tr>\n",
       "      <th>924275</th>\n",
       "      <td>Afternoon Market Stats in 5 Minutes</td>\n",
       "      <td>https://www.benzinga.com/markets/20/06/1620319...</td>\n",
       "      <td>Benzinga Insights</td>\n",
       "      <td>2020-06-08</td>\n",
       "      <td>NVDA</td>\n",
       "      <td>0.0000</td>\n",
       "      <td>2020-06-08</td>\n",
       "    </tr>\n",
       "  </tbody>\n",
       "</table>\n",
       "</div>"
      ],
      "text/plain": [
       "                                                 headline  \\\n",
       "924271  Shares of several technology companies are tra...   \n",
       "924272                Afternoon Market Stats in 5 Minutes   \n",
       "924273                  Morning Market Stats in 5 Minutes   \n",
       "924274  Shares of several technology companies are tra...   \n",
       "924275                Afternoon Market Stats in 5 Minutes   \n",
       "\n",
       "                                                      url          publisher  \\\n",
       "924271  https://www.benzinga.com/wiim/20/06/16224173/s...  Benzinga Newsdesk   \n",
       "924272  https://www.benzinga.com/markets/20/06/1622357...  Benzinga Insights   \n",
       "924273  https://www.benzinga.com/markets/20/06/1622174...  Benzinga Insights   \n",
       "924274  https://www.benzinga.com/wiim/20/06/16214789/s...  Benzinga Newsdesk   \n",
       "924275  https://www.benzinga.com/markets/20/06/1620319...  Benzinga Insights   \n",
       "\n",
       "              date stock  sentiment   date_only  \n",
       "924271  2020-06-10  NVDA     0.7296  2020-06-10  \n",
       "924272  2020-06-10  NVDA     0.0000  2020-06-10  \n",
       "924273  2020-06-10  NVDA     0.0000  2020-06-10  \n",
       "924274  2020-06-09  NVDA     0.7296  2020-06-09  \n",
       "924275  2020-06-08  NVDA     0.0000  2020-06-08  "
      ]
     },
     "execution_count": 45,
     "metadata": {},
     "output_type": "execute_result"
    }
   ],
   "source": [
    "nvda_news_df.head()"
   ]
  },
  {
   "cell_type": "code",
   "execution_count": 47,
   "id": "dd9e638b",
   "metadata": {},
   "outputs": [],
   "source": [
    "# Aligning sentiment scores with the stock closing prices on the same date\n",
    "combined_data_nvda = nvda_news_df.set_index('date').join(nvda_df['Close'])"
   ]
  },
  {
   "cell_type": "code",
   "execution_count": null,
   "id": "30845186",
   "metadata": {},
   "outputs": [],
   "source": [
    "nvda_news_df['date_for_merge'] = pd.to_datetime(nvda_news_df['date_only'])"
   ]
  },
  {
   "cell_type": "code",
   "execution_count": 49,
   "id": "197764f4",
   "metadata": {},
   "outputs": [],
   "source": [
    "# convert NVDA's index to datetime if it's not already\n",
    "nvda_df.index = pd.to_datetime(nvda_df.index)"
   ]
  },
  {
   "cell_type": "code",
   "execution_count": 50,
   "id": "b3f91253",
   "metadata": {},
   "outputs": [],
   "source": [
    "combined_data_nvda = pd.merge(\n",
    "    nvda_news_df,\n",
    "    nvda_df[['Close']], # Select only 'Close' from nvda_df; its index 'Date' is implicitly used\n",
    "    left_on='date_for_merge', # Column from the left DataFrame (nvda_news_df)\n",
    "    right_index=True,        # Use the index of the right DataFrame (nvda_df)\n",
    "    how='left'               # Keep all news entries\n",
    ")"
   ]
  },
  {
   "cell_type": "code",
   "execution_count": 52,
   "id": "ff272b5d",
   "metadata": {},
   "outputs": [],
   "source": [
    "# clean up and rename\n",
    "combined_data_nvda = combined_data_nvda.drop(columns=['date_for_merge', 'date_only'], errors='ignore')"
   ]
  },
  {
   "cell_type": "code",
   "execution_count": 53,
   "id": "b648c64c",
   "metadata": {},
   "outputs": [
    {
     "data": {
      "text/html": [
       "<div>\n",
       "<style scoped>\n",
       "    .dataframe tbody tr th:only-of-type {\n",
       "        vertical-align: middle;\n",
       "    }\n",
       "\n",
       "    .dataframe tbody tr th {\n",
       "        vertical-align: top;\n",
       "    }\n",
       "\n",
       "    .dataframe thead th {\n",
       "        text-align: right;\n",
       "    }\n",
       "</style>\n",
       "<table border=\"1\" class=\"dataframe\">\n",
       "  <thead>\n",
       "    <tr style=\"text-align: right;\">\n",
       "      <th></th>\n",
       "      <th>headline</th>\n",
       "      <th>url</th>\n",
       "      <th>publisher</th>\n",
       "      <th>date</th>\n",
       "      <th>stock</th>\n",
       "      <th>sentiment</th>\n",
       "      <th>Close</th>\n",
       "    </tr>\n",
       "  </thead>\n",
       "  <tbody>\n",
       "    <tr>\n",
       "      <th>924271</th>\n",
       "      <td>Shares of several technology companies are tra...</td>\n",
       "      <td>https://www.benzinga.com/wiim/20/06/16224173/s...</td>\n",
       "      <td>Benzinga Newsdesk</td>\n",
       "      <td>2020-06-10</td>\n",
       "      <td>NVDA</td>\n",
       "      <td>0.7296</td>\n",
       "      <td>9.36675</td>\n",
       "    </tr>\n",
       "    <tr>\n",
       "      <th>924272</th>\n",
       "      <td>Afternoon Market Stats in 5 Minutes</td>\n",
       "      <td>https://www.benzinga.com/markets/20/06/1622357...</td>\n",
       "      <td>Benzinga Insights</td>\n",
       "      <td>2020-06-10</td>\n",
       "      <td>NVDA</td>\n",
       "      <td>0.0000</td>\n",
       "      <td>9.36675</td>\n",
       "    </tr>\n",
       "    <tr>\n",
       "      <th>924273</th>\n",
       "      <td>Morning Market Stats in 5 Minutes</td>\n",
       "      <td>https://www.benzinga.com/markets/20/06/1622174...</td>\n",
       "      <td>Benzinga Insights</td>\n",
       "      <td>2020-06-10</td>\n",
       "      <td>NVDA</td>\n",
       "      <td>0.0000</td>\n",
       "      <td>9.36675</td>\n",
       "    </tr>\n",
       "    <tr>\n",
       "      <th>924274</th>\n",
       "      <td>Shares of several technology companies are tra...</td>\n",
       "      <td>https://www.benzinga.com/wiim/20/06/16214789/s...</td>\n",
       "      <td>Benzinga Newsdesk</td>\n",
       "      <td>2020-06-09</td>\n",
       "      <td>NVDA</td>\n",
       "      <td>0.7296</td>\n",
       "      <td>9.04600</td>\n",
       "    </tr>\n",
       "    <tr>\n",
       "      <th>924275</th>\n",
       "      <td>Afternoon Market Stats in 5 Minutes</td>\n",
       "      <td>https://www.benzinga.com/markets/20/06/1620319...</td>\n",
       "      <td>Benzinga Insights</td>\n",
       "      <td>2020-06-08</td>\n",
       "      <td>NVDA</td>\n",
       "      <td>0.0000</td>\n",
       "      <td>8.80500</td>\n",
       "    </tr>\n",
       "  </tbody>\n",
       "</table>\n",
       "</div>"
      ],
      "text/plain": [
       "                                                 headline  \\\n",
       "924271  Shares of several technology companies are tra...   \n",
       "924272                Afternoon Market Stats in 5 Minutes   \n",
       "924273                  Morning Market Stats in 5 Minutes   \n",
       "924274  Shares of several technology companies are tra...   \n",
       "924275                Afternoon Market Stats in 5 Minutes   \n",
       "\n",
       "                                                      url          publisher  \\\n",
       "924271  https://www.benzinga.com/wiim/20/06/16224173/s...  Benzinga Newsdesk   \n",
       "924272  https://www.benzinga.com/markets/20/06/1622357...  Benzinga Insights   \n",
       "924273  https://www.benzinga.com/markets/20/06/1622174...  Benzinga Insights   \n",
       "924274  https://www.benzinga.com/wiim/20/06/16214789/s...  Benzinga Newsdesk   \n",
       "924275  https://www.benzinga.com/markets/20/06/1620319...  Benzinga Insights   \n",
       "\n",
       "              date stock  sentiment    Close  \n",
       "924271  2020-06-10  NVDA     0.7296  9.36675  \n",
       "924272  2020-06-10  NVDA     0.0000  9.36675  \n",
       "924273  2020-06-10  NVDA     0.0000  9.36675  \n",
       "924274  2020-06-09  NVDA     0.7296  9.04600  \n",
       "924275  2020-06-08  NVDA     0.0000  8.80500  "
      ]
     },
     "execution_count": 53,
     "metadata": {},
     "output_type": "execute_result"
    }
   ],
   "source": [
    "combined_data_nvda.head()"
   ]
  },
  {
   "cell_type": "code",
   "execution_count": null,
   "id": "f91b01dd",
   "metadata": {},
   "outputs": [],
   "source": [
    "# Calculate daily return using pct_change() method of pandas DataFrame\n",
    "combined_data_nvda['Daily Returns'] = combined_data_nvda['Close'].pct_change()"
   ]
  },
  {
   "cell_type": "code",
   "execution_count": 55,
   "id": "de754c4d",
   "metadata": {},
   "outputs": [
    {
     "data": {
      "text/html": [
       "<div>\n",
       "<style scoped>\n",
       "    .dataframe tbody tr th:only-of-type {\n",
       "        vertical-align: middle;\n",
       "    }\n",
       "\n",
       "    .dataframe tbody tr th {\n",
       "        vertical-align: top;\n",
       "    }\n",
       "\n",
       "    .dataframe thead th {\n",
       "        text-align: right;\n",
       "    }\n",
       "</style>\n",
       "<table border=\"1\" class=\"dataframe\">\n",
       "  <thead>\n",
       "    <tr style=\"text-align: right;\">\n",
       "      <th></th>\n",
       "      <th>headline</th>\n",
       "      <th>url</th>\n",
       "      <th>publisher</th>\n",
       "      <th>date</th>\n",
       "      <th>stock</th>\n",
       "      <th>sentiment</th>\n",
       "      <th>Close</th>\n",
       "      <th>Daily Returns</th>\n",
       "    </tr>\n",
       "  </thead>\n",
       "  <tbody>\n",
       "    <tr>\n",
       "      <th>924271</th>\n",
       "      <td>Shares of several technology companies are tra...</td>\n",
       "      <td>https://www.benzinga.com/wiim/20/06/16224173/s...</td>\n",
       "      <td>Benzinga Newsdesk</td>\n",
       "      <td>2020-06-10</td>\n",
       "      <td>NVDA</td>\n",
       "      <td>0.7296</td>\n",
       "      <td>9.36675</td>\n",
       "      <td>NaN</td>\n",
       "    </tr>\n",
       "    <tr>\n",
       "      <th>924272</th>\n",
       "      <td>Afternoon Market Stats in 5 Minutes</td>\n",
       "      <td>https://www.benzinga.com/markets/20/06/1622357...</td>\n",
       "      <td>Benzinga Insights</td>\n",
       "      <td>2020-06-10</td>\n",
       "      <td>NVDA</td>\n",
       "      <td>0.0000</td>\n",
       "      <td>9.36675</td>\n",
       "      <td>0.000000</td>\n",
       "    </tr>\n",
       "    <tr>\n",
       "      <th>924273</th>\n",
       "      <td>Morning Market Stats in 5 Minutes</td>\n",
       "      <td>https://www.benzinga.com/markets/20/06/1622174...</td>\n",
       "      <td>Benzinga Insights</td>\n",
       "      <td>2020-06-10</td>\n",
       "      <td>NVDA</td>\n",
       "      <td>0.0000</td>\n",
       "      <td>9.36675</td>\n",
       "      <td>0.000000</td>\n",
       "    </tr>\n",
       "    <tr>\n",
       "      <th>924274</th>\n",
       "      <td>Shares of several technology companies are tra...</td>\n",
       "      <td>https://www.benzinga.com/wiim/20/06/16214789/s...</td>\n",
       "      <td>Benzinga Newsdesk</td>\n",
       "      <td>2020-06-09</td>\n",
       "      <td>NVDA</td>\n",
       "      <td>0.7296</td>\n",
       "      <td>9.04600</td>\n",
       "      <td>-0.034243</td>\n",
       "    </tr>\n",
       "    <tr>\n",
       "      <th>924275</th>\n",
       "      <td>Afternoon Market Stats in 5 Minutes</td>\n",
       "      <td>https://www.benzinga.com/markets/20/06/1620319...</td>\n",
       "      <td>Benzinga Insights</td>\n",
       "      <td>2020-06-08</td>\n",
       "      <td>NVDA</td>\n",
       "      <td>0.0000</td>\n",
       "      <td>8.80500</td>\n",
       "      <td>-0.026642</td>\n",
       "    </tr>\n",
       "  </tbody>\n",
       "</table>\n",
       "</div>"
      ],
      "text/plain": [
       "                                                 headline  \\\n",
       "924271  Shares of several technology companies are tra...   \n",
       "924272                Afternoon Market Stats in 5 Minutes   \n",
       "924273                  Morning Market Stats in 5 Minutes   \n",
       "924274  Shares of several technology companies are tra...   \n",
       "924275                Afternoon Market Stats in 5 Minutes   \n",
       "\n",
       "                                                      url          publisher  \\\n",
       "924271  https://www.benzinga.com/wiim/20/06/16224173/s...  Benzinga Newsdesk   \n",
       "924272  https://www.benzinga.com/markets/20/06/1622357...  Benzinga Insights   \n",
       "924273  https://www.benzinga.com/markets/20/06/1622174...  Benzinga Insights   \n",
       "924274  https://www.benzinga.com/wiim/20/06/16214789/s...  Benzinga Newsdesk   \n",
       "924275  https://www.benzinga.com/markets/20/06/1620319...  Benzinga Insights   \n",
       "\n",
       "              date stock  sentiment    Close  Daily Returns  \n",
       "924271  2020-06-10  NVDA     0.7296  9.36675            NaN  \n",
       "924272  2020-06-10  NVDA     0.0000  9.36675       0.000000  \n",
       "924273  2020-06-10  NVDA     0.0000  9.36675       0.000000  \n",
       "924274  2020-06-09  NVDA     0.7296  9.04600      -0.034243  \n",
       "924275  2020-06-08  NVDA     0.0000  8.80500      -0.026642  "
      ]
     },
     "execution_count": 55,
     "metadata": {},
     "output_type": "execute_result"
    }
   ],
   "source": [
    "combined_data_nvda.head()"
   ]
  },
  {
   "cell_type": "markdown",
   "id": "602dc058",
   "metadata": {},
   "source": [
    "## Correlation Analysis for NVDA"
   ]
  },
  {
   "cell_type": "markdown",
   "id": "d7bae359",
   "metadata": {},
   "source": [
    "#### Pearson Correlation"
   ]
  },
  {
   "cell_type": "code",
   "execution_count": 56,
   "id": "94a9e7e9",
   "metadata": {},
   "outputs": [
    {
     "name": "stdout",
     "output_type": "stream",
     "text": [
      "Pearson correlation between sentiment and daily returns: -0.014307107002065127\n"
     ]
    }
   ],
   "source": [
    "correlation = combined_data_nvda['sentiment'].corr(combined_data_nvda['Daily Returns'])\n",
    "print(f\"Pearson correlation between sentiment and daily returns: {correlation}\")"
   ]
  },
  {
   "cell_type": "code",
   "execution_count": 57,
   "id": "6b1bb485",
   "metadata": {},
   "outputs": [
    {
     "name": "stdout",
     "output_type": "stream",
     "text": [
      "Pearson correlation between sentiment and closing price: 0.03656430626505984\n"
     ]
    }
   ],
   "source": [
    "correlation = combined_data_nvda['sentiment'].corr(combined_data_nvda['Close'])\n",
    "print(f\"Pearson correlation between sentiment and closing price: {correlation}\")"
   ]
  },
  {
   "cell_type": "markdown",
   "id": "417b2939",
   "metadata": {},
   "source": [
    "Summary: The Pearson correlation between sentiment and daily returns is -0.014, indicating a weak negative correlation."
   ]
  },
  {
   "cell_type": "markdown",
   "id": "42124776",
   "metadata": {},
   "source": [
    "#### Spearman Correlation"
   ]
  },
  {
   "cell_type": "code",
   "execution_count": 58,
   "id": "3d0d3f59",
   "metadata": {},
   "outputs": [
    {
     "name": "stdout",
     "output_type": "stream",
     "text": [
      "Spearman correlation between sentiment and daily returns: 0.003442963022003693\n"
     ]
    }
   ],
   "source": [
    "correlation = combined_data_nvda['sentiment'].corr(combined_data_nvda['Daily Returns'], method='spearman')\n",
    "print(f\"Spearman correlation between sentiment and daily returns: {correlation}\")"
   ]
  },
  {
   "cell_type": "code",
   "execution_count": 59,
   "id": "6249fc10",
   "metadata": {},
   "outputs": [
    {
     "name": "stdout",
     "output_type": "stream",
     "text": [
      "Spearman correlation between sentiment and closing price: 0.03653806703098296\n"
     ]
    }
   ],
   "source": [
    "correlation = combined_data_nvda['sentiment'].corr(combined_data_nvda['Close'], method='spearman')\n",
    "print(f\"Spearman correlation between sentiment and closing price: {correlation}\")"
   ]
  },
  {
   "cell_type": "markdown",
   "id": "0310cbc5",
   "metadata": {},
   "source": [
    "Summary: The Spearman correlation between sentiment and daily returns is 0.00344, indicating a weak positive correlation."
   ]
  },
  {
   "cell_type": "markdown",
   "id": "c48ebfb2",
   "metadata": {},
   "source": [
    "#### Kendall Correlation"
   ]
  },
  {
   "cell_type": "code",
   "execution_count": 61,
   "id": "dab67c02",
   "metadata": {},
   "outputs": [
    {
     "name": "stdout",
     "output_type": "stream",
     "text": [
      "Kendall correlation between sentiment and daily returns: SignificanceResult(statistic=nan, pvalue=nan)\n"
     ]
    }
   ],
   "source": [
    "from scipy.stats import kendalltau\n",
    "correlation = kendalltau(combined_data_nvda['sentiment'], combined_data_nvda['Daily Returns'])\n",
    "print(f\"Kendall correlation between sentiment and daily returns: {correlation}\")"
   ]
  },
  {
   "cell_type": "code",
   "execution_count": 62,
   "id": "53b8d2b3",
   "metadata": {},
   "outputs": [
    {
     "name": "stdout",
     "output_type": "stream",
     "text": [
      "Kendall correlation between sentiment and daily returns: SignificanceResult(statistic=nan, pvalue=nan)\n"
     ]
    }
   ],
   "source": [
    "correlation = kendalltau(combined_data_nvda['sentiment'], combined_data_nvda['Close'])\n",
    "print(f\"Kendall correlation between sentiment and daily returns: {correlation}\")"
   ]
  },
  {
   "cell_type": "code",
   "execution_count": 63,
   "id": "5adbc281",
   "metadata": {},
   "outputs": [
    {
     "name": "stdout",
     "output_type": "stream",
     "text": [
      "Kendall correlation between sentiment and daily returns (filtered): SignificanceResult(statistic=np.float64(0.002538362864821492), pvalue=np.float64(0.8609596747212688))\n"
     ]
    }
   ],
   "source": [
    "# Drop rows with NaNs before computing\n",
    "filtered_data = combined_data_nvda[['sentiment', 'Daily Returns']].dropna()\n",
    "correlation = kendalltau(filtered_data['sentiment'], filtered_data['Daily Returns'])\n",
    "print(f\"Kendall correlation between sentiment and daily returns (filtered): {correlation}\")"
   ]
  },
  {
   "cell_type": "markdown",
   "id": "23ff10a1",
   "metadata": {},
   "source": [
    "Interpretation:\n",
    "\n",
    "- The Pearson correlation between sentiment and daily returns is -0.014, indicating a weak negative correlation.\n",
    "- The Spearman correlation between sentiment and daily returns is 0.00344, indicating a weak positive correlation.\n",
    "- The Kendall correlation between sentiment and daily returns is SignificanceResult(statistic=0.0025), pvalue=0.86), indicating a weak positive correlation."
   ]
  },
  {
   "cell_type": "code",
   "execution_count": null,
   "id": "c734f2a8",
   "metadata": {},
   "outputs": [],
   "source": [
    "# Plot correlation heatmap\n",
    "corr_data = combined_data_nvda[['sentiment', 'Daily Returns', 'Close']].dropna()"
   ]
  },
  {
   "cell_type": "code",
   "execution_count": 65,
   "id": "d1244c7b",
   "metadata": {},
   "outputs": [],
   "source": [
    "# calculate correlation matrix\n",
    "correlation_matrix = corr_data.corr(method='pearson')"
   ]
  },
  {
   "cell_type": "code",
   "execution_count": 67,
   "id": "781bbbf7",
   "metadata": {},
   "outputs": [
    {
     "data": {
      "image/png": "[encoded data removed]",
      "text/plain": [
       "<Figure size 800x600 with 2 Axes>"
      ]
     },
     "metadata": {},
     "output_type": "display_data"
    }
   ],
   "source": [
    "# Plot\n",
    "import matplotlib.pyplot as plt\n",
    "import seaborn as sns\n",
    "plt.figure(figsize=(8, 6))\n",
    "sns.heatmap(correlation_matrix, annot=True, cmap='coolwarm', fmt='.2f', square=True, cbar_kws={\"shrink\": .8})\n",
    "plt.title('Correlation Matix Heatmap, for NVDA')\n",
    "plt.tight_layout()\n",
    "plt.show()"
   ]
  },
  {
   "cell_type": "code",
   "execution_count": 69,
   "id": "97ad2288",
   "metadata": {},
   "outputs": [
    {
     "data": {
      "image/png": "[encoded data removed]",
      "text/plain": [
       "<Figure size 1000x600 with 1 Axes>"
      ]
     },
     "metadata": {},
     "output_type": "display_data"
    }
   ],
   "source": [
    "# scatter plot for sentiment vs daily returns\n",
    "plt.figure(figsize=(10, 6))\n",
    "sns.scatterplot(data=combined_data_nvda, x='sentiment', y='Daily Returns')\n",
    "plt.title('Scatter Plot: Sentiment vs Daily Returns for NVDA')\n",
    "plt.xlabel('Sentiment')\n",
    "plt.ylabel('Daily Returns')\n",
    "plt.axhline(0, color='red', linestyle='--', linewidth=1)\n",
    "plt.axvline(0, color='red', linestyle='--', linewidth=1)\n",
    "plt.tight_layout()\n",
    "plt.show()"
   ]
  },
  {
   "cell_type": "markdown",
   "id": "16d6e8f3",
   "metadata": {},
   "source": [
    "# Sentiment Analysis for GOOGL"
   ]
  },
  {
   "cell_type": "code",
   "execution_count": 72,
   "id": "b7dcd52c",
   "metadata": {},
   "outputs": [],
   "source": [
    "# Load stock data for googl\n",
    "goog_df = load_stock_data_from_csv(\"../data/yfinance_data/yfinance_data/GOOG_historical_data.csv\")"
   ]
  },
  {
   "cell_type": "code",
   "execution_count": 73,
   "id": "085274b6",
   "metadata": {},
   "outputs": [
    {
     "data": {
      "text/html": [
       "<div>\n",
       "<style scoped>\n",
       "    .dataframe tbody tr th:only-of-type {\n",
       "        vertical-align: middle;\n",
       "    }\n",
       "\n",
       "    .dataframe tbody tr th {\n",
       "        vertical-align: top;\n",
       "    }\n",
       "\n",
       "    .dataframe thead th {\n",
       "        text-align: right;\n",
       "    }\n",
       "</style>\n",
       "<table border=\"1\" class=\"dataframe\">\n",
       "  <thead>\n",
       "    <tr style=\"text-align: right;\">\n",
       "      <th></th>\n",
       "      <th>Open</th>\n",
       "      <th>High</th>\n",
       "      <th>Low</th>\n",
       "      <th>Close</th>\n",
       "      <th>Adj Close</th>\n",
       "      <th>Volume</th>\n",
       "      <th>Dividends</th>\n",
       "      <th>Stock Splits</th>\n",
       "    </tr>\n",
       "    <tr>\n",
       "      <th>Date</th>\n",
       "      <th></th>\n",
       "      <th></th>\n",
       "      <th></th>\n",
       "      <th></th>\n",
       "      <th></th>\n",
       "      <th></th>\n",
       "      <th></th>\n",
       "      <th></th>\n",
       "    </tr>\n",
       "  </thead>\n",
       "  <tbody>\n",
       "    <tr>\n",
       "      <th>2004-08-19</th>\n",
       "      <td>2.490664</td>\n",
       "      <td>2.591785</td>\n",
       "      <td>2.390042</td>\n",
       "      <td>2.499133</td>\n",
       "      <td>2.496292</td>\n",
       "      <td>897427216</td>\n",
       "      <td>0.0</td>\n",
       "      <td>0.0</td>\n",
       "    </tr>\n",
       "    <tr>\n",
       "      <th>2004-08-20</th>\n",
       "      <td>2.515820</td>\n",
       "      <td>2.716817</td>\n",
       "      <td>2.503118</td>\n",
       "      <td>2.697639</td>\n",
       "      <td>2.694573</td>\n",
       "      <td>458857488</td>\n",
       "      <td>0.0</td>\n",
       "      <td>0.0</td>\n",
       "    </tr>\n",
       "    <tr>\n",
       "      <th>2004-08-23</th>\n",
       "      <td>2.758411</td>\n",
       "      <td>2.826406</td>\n",
       "      <td>2.716070</td>\n",
       "      <td>2.724787</td>\n",
       "      <td>2.721690</td>\n",
       "      <td>366857939</td>\n",
       "      <td>0.0</td>\n",
       "      <td>0.0</td>\n",
       "    </tr>\n",
       "    <tr>\n",
       "      <th>2004-08-24</th>\n",
       "      <td>2.770615</td>\n",
       "      <td>2.779581</td>\n",
       "      <td>2.579581</td>\n",
       "      <td>2.611960</td>\n",
       "      <td>2.608991</td>\n",
       "      <td>306396159</td>\n",
       "      <td>0.0</td>\n",
       "      <td>0.0</td>\n",
       "    </tr>\n",
       "    <tr>\n",
       "      <th>2004-08-25</th>\n",
       "      <td>2.614201</td>\n",
       "      <td>2.689918</td>\n",
       "      <td>2.587302</td>\n",
       "      <td>2.640104</td>\n",
       "      <td>2.637103</td>\n",
       "      <td>184645512</td>\n",
       "      <td>0.0</td>\n",
       "      <td>0.0</td>\n",
       "    </tr>\n",
       "  </tbody>\n",
       "</table>\n",
       "</div>"
      ],
      "text/plain": [
       "                Open      High       Low     Close  Adj Close     Volume  \\\n",
       "Date                                                                       \n",
       "2004-08-19  2.490664  2.591785  2.390042  2.499133   2.496292  897427216   \n",
       "2004-08-20  2.515820  2.716817  2.503118  2.697639   2.694573  458857488   \n",
       "2004-08-23  2.758411  2.826406  2.716070  2.724787   2.721690  366857939   \n",
       "2004-08-24  2.770615  2.779581  2.579581  2.611960   2.608991  306396159   \n",
       "2004-08-25  2.614201  2.689918  2.587302  2.640104   2.637103  184645512   \n",
       "\n",
       "            Dividends  Stock Splits  \n",
       "Date                                 \n",
       "2004-08-19        0.0           0.0  \n",
       "2004-08-20        0.0           0.0  \n",
       "2004-08-23        0.0           0.0  \n",
       "2004-08-24        0.0           0.0  \n",
       "2004-08-25        0.0           0.0  "
      ]
     },
     "execution_count": 73,
     "metadata": {},
     "output_type": "execute_result"
    }
   ],
   "source": [
    "goog_df.head()"
   ]
  },
  {
   "cell_type": "markdown",
   "id": "8cea7212",
   "metadata": {},
   "source": [
    "#### Combine sentiment with closing price on the same day"
   ]
  },
  {
   "cell_type": "code",
   "execution_count": 74,
   "id": "23503a63",
   "metadata": {},
   "outputs": [],
   "source": [
    "# filter goog news\n",
    "goog_news_df = news_df[news_df['stock'] == 'GOOG']"
   ]
  },
  {
   "cell_type": "code",
   "execution_count": 75,
   "id": "83a5bfd5",
   "metadata": {},
   "outputs": [
    {
     "data": {
      "text/html": [
       "<div>\n",
       "<style scoped>\n",
       "    .dataframe tbody tr th:only-of-type {\n",
       "        vertical-align: middle;\n",
       "    }\n",
       "\n",
       "    .dataframe tbody tr th {\n",
       "        vertical-align: top;\n",
       "    }\n",
       "\n",
       "    .dataframe thead th {\n",
       "        text-align: right;\n",
       "    }\n",
       "</style>\n",
       "<table border=\"1\" class=\"dataframe\">\n",
       "  <thead>\n",
       "    <tr style=\"text-align: right;\">\n",
       "      <th></th>\n",
       "      <th>headline</th>\n",
       "      <th>url</th>\n",
       "      <th>publisher</th>\n",
       "      <th>date</th>\n",
       "      <th>stock</th>\n",
       "      <th>sentiment</th>\n",
       "      <th>date_only</th>\n",
       "    </tr>\n",
       "  </thead>\n",
       "  <tbody>\n",
       "    <tr>\n",
       "      <th>565380</th>\n",
       "      <td>Facebook, Snap Analyst Projects Q2 Revenue Ups...</td>\n",
       "      <td>https://www.benzinga.com/analyst-ratings/analy...</td>\n",
       "      <td>Shanthi Rexaline</td>\n",
       "      <td>2020-06-10</td>\n",
       "      <td>GOOG</td>\n",
       "      <td>0.0000</td>\n",
       "      <td>2020-06-10</td>\n",
       "    </tr>\n",
       "    <tr>\n",
       "      <th>565381</th>\n",
       "      <td>How Cannabis Company Cannaphyll Is Marketing O...</td>\n",
       "      <td>https://www.benzinga.com/markets/cannabis/20/0...</td>\n",
       "      <td>Jaycee Tenn</td>\n",
       "      <td>2020-06-10</td>\n",
       "      <td>GOOG</td>\n",
       "      <td>0.1779</td>\n",
       "      <td>2020-06-10</td>\n",
       "    </tr>\n",
       "    <tr>\n",
       "      <th>565382</th>\n",
       "      <td>Twitter, Square Will Mark Juneteenth As Holida...</td>\n",
       "      <td>https://www.benzinga.com/news/20/06/16218441/t...</td>\n",
       "      <td>Shivdeep Dhaliwal</td>\n",
       "      <td>2020-06-10</td>\n",
       "      <td>GOOG</td>\n",
       "      <td>0.7096</td>\n",
       "      <td>2020-06-10</td>\n",
       "    </tr>\n",
       "    <tr>\n",
       "      <th>565383</th>\n",
       "      <td>Price Over Earnings Overview: Alphabet</td>\n",
       "      <td>https://www.benzinga.com/intraday-update/20/06...</td>\n",
       "      <td>Benzinga Insights</td>\n",
       "      <td>2020-06-09</td>\n",
       "      <td>GOOG</td>\n",
       "      <td>0.0000</td>\n",
       "      <td>2020-06-09</td>\n",
       "    </tr>\n",
       "    <tr>\n",
       "      <th>565384</th>\n",
       "      <td>Google Maps To Offer Relevant Local COVID-19 I...</td>\n",
       "      <td>https://www.benzinga.com/news/20/06/16208274/g...</td>\n",
       "      <td>Shivdeep Dhaliwal</td>\n",
       "      <td>2020-06-09</td>\n",
       "      <td>GOOG</td>\n",
       "      <td>0.0000</td>\n",
       "      <td>2020-06-09</td>\n",
       "    </tr>\n",
       "  </tbody>\n",
       "</table>\n",
       "</div>"
      ],
      "text/plain": [
       "                                                 headline  \\\n",
       "565380  Facebook, Snap Analyst Projects Q2 Revenue Ups...   \n",
       "565381  How Cannabis Company Cannaphyll Is Marketing O...   \n",
       "565382  Twitter, Square Will Mark Juneteenth As Holida...   \n",
       "565383             Price Over Earnings Overview: Alphabet   \n",
       "565384  Google Maps To Offer Relevant Local COVID-19 I...   \n",
       "\n",
       "                                                      url          publisher  \\\n",
       "565380  https://www.benzinga.com/analyst-ratings/analy...   Shanthi Rexaline   \n",
       "565381  https://www.benzinga.com/markets/cannabis/20/0...        Jaycee Tenn   \n",
       "565382  https://www.benzinga.com/news/20/06/16218441/t...  Shivdeep Dhaliwal   \n",
       "565383  https://www.benzinga.com/intraday-update/20/06...  Benzinga Insights   \n",
       "565384  https://www.benzinga.com/news/20/06/16208274/g...  Shivdeep Dhaliwal   \n",
       "\n",
       "              date stock  sentiment   date_only  \n",
       "565380  2020-06-10  GOOG     0.0000  2020-06-10  \n",
       "565381  2020-06-10  GOOG     0.1779  2020-06-10  \n",
       "565382  2020-06-10  GOOG     0.7096  2020-06-10  \n",
       "565383  2020-06-09  GOOG     0.0000  2020-06-09  \n",
       "565384  2020-06-09  GOOG     0.0000  2020-06-09  "
      ]
     },
     "execution_count": 75,
     "metadata": {},
     "output_type": "execute_result"
    }
   ],
   "source": [
    "goog_news_df.head()"
   ]
  },
  {
   "cell_type": "code",
   "execution_count": 76,
   "id": "6dc3480f",
   "metadata": {},
   "outputs": [],
   "source": [
    "# Aligning sentiment scores with the stock closing prices on the same date\n",
    "combined_data_goog = goog_news_df.set_index('date').join(goog_df['Close'])"
   ]
  },
  {
   "cell_type": "code",
   "execution_count": null,
   "id": "f6f8e4b0",
   "metadata": {},
   "outputs": [],
   "source": [
    "goog_news_df['date_for_merge'] = pd.to_datetime(goog_news_df['date_only'])"
   ]
  },
  {
   "cell_type": "code",
   "execution_count": 78,
   "id": "49fae820",
   "metadata": {},
   "outputs": [],
   "source": [
    "# convert goog_df's index to datetime if it's not already\n",
    "goog_df.index = pd.to_datetime(goog_df.index)"
   ]
  },
  {
   "cell_type": "code",
   "execution_count": 80,
   "id": "ca1f2489",
   "metadata": {},
   "outputs": [],
   "source": [
    "combined_data_goog = pd.merge(\n",
    "    goog_news_df,\n",
    "    goog_df[['Close']], # Select only 'Close' from goog_df; its index 'Date' is implicitly used\n",
    "    left_on='date_for_merge', # Column from the left DataFrame (goog_news_df)\n",
    "    right_index=True,        # Use the index of the right DataFrame (goog_df)\n",
    "    how='left'               # Keep all news entries\n",
    ")"
   ]
  },
  {
   "cell_type": "code",
   "execution_count": 81,
   "id": "9c861cf6",
   "metadata": {},
   "outputs": [],
   "source": [
    "# clean up and rename\n",
    "combined_data_goog = combined_data_goog.drop(columns=['date_for_merge', 'date_only'], errors='ignore')"
   ]
  },
  {
   "cell_type": "code",
   "execution_count": 82,
   "id": "9f9c106a",
   "metadata": {},
   "outputs": [
    {
     "data": {
      "text/html": [
       "<div>\n",
       "<style scoped>\n",
       "    .dataframe tbody tr th:only-of-type {\n",
       "        vertical-align: middle;\n",
       "    }\n",
       "\n",
       "    .dataframe tbody tr th {\n",
       "        vertical-align: top;\n",
       "    }\n",
       "\n",
       "    .dataframe thead th {\n",
       "        text-align: right;\n",
       "    }\n",
       "</style>\n",
       "<table border=\"1\" class=\"dataframe\">\n",
       "  <thead>\n",
       "    <tr style=\"text-align: right;\">\n",
       "      <th></th>\n",
       "      <th>headline</th>\n",
       "      <th>url</th>\n",
       "      <th>publisher</th>\n",
       "      <th>date</th>\n",
       "      <th>stock</th>\n",
       "      <th>sentiment</th>\n",
       "      <th>Close</th>\n",
       "    </tr>\n",
       "  </thead>\n",
       "  <tbody>\n",
       "    <tr>\n",
       "      <th>565380</th>\n",
       "      <td>Facebook, Snap Analyst Projects Q2 Revenue Ups...</td>\n",
       "      <td>https://www.benzinga.com/analyst-ratings/analy...</td>\n",
       "      <td>Shanthi Rexaline</td>\n",
       "      <td>2020-06-10</td>\n",
       "      <td>GOOG</td>\n",
       "      <td>0.0000</td>\n",
       "      <td>73.292503</td>\n",
       "    </tr>\n",
       "    <tr>\n",
       "      <th>565381</th>\n",
       "      <td>How Cannabis Company Cannaphyll Is Marketing O...</td>\n",
       "      <td>https://www.benzinga.com/markets/cannabis/20/0...</td>\n",
       "      <td>Jaycee Tenn</td>\n",
       "      <td>2020-06-10</td>\n",
       "      <td>GOOG</td>\n",
       "      <td>0.1779</td>\n",
       "      <td>73.292503</td>\n",
       "    </tr>\n",
       "    <tr>\n",
       "      <th>565382</th>\n",
       "      <td>Twitter, Square Will Mark Juneteenth As Holida...</td>\n",
       "      <td>https://www.benzinga.com/news/20/06/16218441/t...</td>\n",
       "      <td>Shivdeep Dhaliwal</td>\n",
       "      <td>2020-06-10</td>\n",
       "      <td>GOOG</td>\n",
       "      <td>0.7096</td>\n",
       "      <td>73.292503</td>\n",
       "    </tr>\n",
       "    <tr>\n",
       "      <th>565383</th>\n",
       "      <td>Price Over Earnings Overview: Alphabet</td>\n",
       "      <td>https://www.benzinga.com/intraday-update/20/06...</td>\n",
       "      <td>Benzinga Insights</td>\n",
       "      <td>2020-06-09</td>\n",
       "      <td>GOOG</td>\n",
       "      <td>0.0000</td>\n",
       "      <td>72.807999</td>\n",
       "    </tr>\n",
       "    <tr>\n",
       "      <th>565384</th>\n",
       "      <td>Google Maps To Offer Relevant Local COVID-19 I...</td>\n",
       "      <td>https://www.benzinga.com/news/20/06/16208274/g...</td>\n",
       "      <td>Shivdeep Dhaliwal</td>\n",
       "      <td>2020-06-09</td>\n",
       "      <td>GOOG</td>\n",
       "      <td>0.0000</td>\n",
       "      <td>72.807999</td>\n",
       "    </tr>\n",
       "  </tbody>\n",
       "</table>\n",
       "</div>"
      ],
      "text/plain": [
       "                                                 headline  \\\n",
       "565380  Facebook, Snap Analyst Projects Q2 Revenue Ups...   \n",
       "565381  How Cannabis Company Cannaphyll Is Marketing O...   \n",
       "565382  Twitter, Square Will Mark Juneteenth As Holida...   \n",
       "565383             Price Over Earnings Overview: Alphabet   \n",
       "565384  Google Maps To Offer Relevant Local COVID-19 I...   \n",
       "\n",
       "                                                      url          publisher  \\\n",
       "565380  https://www.benzinga.com/analyst-ratings/analy...   Shanthi Rexaline   \n",
       "565381  https://www.benzinga.com/markets/cannabis/20/0...        Jaycee Tenn   \n",
       "565382  https://www.benzinga.com/news/20/06/16218441/t...  Shivdeep Dhaliwal   \n",
       "565383  https://www.benzinga.com/intraday-update/20/06...  Benzinga Insights   \n",
       "565384  https://www.benzinga.com/news/20/06/16208274/g...  Shivdeep Dhaliwal   \n",
       "\n",
       "              date stock  sentiment      Close  \n",
       "565380  2020-06-10  GOOG     0.0000  73.292503  \n",
       "565381  2020-06-10  GOOG     0.1779  73.292503  \n",
       "565382  2020-06-10  GOOG     0.7096  73.292503  \n",
       "565383  2020-06-09  GOOG     0.0000  72.807999  \n",
       "565384  2020-06-09  GOOG     0.0000  72.807999  "
      ]
     },
     "execution_count": 82,
     "metadata": {},
     "output_type": "execute_result"
    }
   ],
   "source": [
    "combined_data_goog.head()"
   ]
  },
  {
   "cell_type": "code",
   "execution_count": null,
   "id": "931ca7ac",
   "metadata": {},
   "outputs": [],
   "source": [
    "# Calculate daily return using pct_change() method of pandas DataFrame\n",
    "combined_data_goog['Daily Returns'] = combined_data_goog['Close'].pct_change()"
   ]
  },
  {
   "cell_type": "markdown",
   "id": "c57d5adf",
   "metadata": {},
   "source": [
    "### Correlation Analysis for GOOG"
   ]
  },
  {
   "cell_type": "markdown",
   "id": "0dd5205a",
   "metadata": {},
   "source": [
    "#### Pearson Correlation"
   ]
  },
  {
   "cell_type": "code",
   "execution_count": 88,
   "id": "f31d9742",
   "metadata": {},
   "outputs": [
    {
     "name": "stdout",
     "output_type": "stream",
     "text": [
      "Pearson correlation between sentiment and daily returns: 0.015003126407045252\n"
     ]
    }
   ],
   "source": [
    "# Pearson correlation\n",
    "correlation = combined_data_goog['sentiment'].corr(combined_data_goog['Daily Returns'])\n",
    "print(f\"Pearson correlation between sentiment and daily returns: {correlation}\")"
   ]
  },
  {
   "cell_type": "code",
   "execution_count": 89,
   "id": "1b9b8d95",
   "metadata": {},
   "outputs": [
    {
     "name": "stdout",
     "output_type": "stream",
     "text": [
      "Pearson correlation between sentiment and closing price: 0.03656430626505984\n"
     ]
    }
   ],
   "source": [
    "correlation = combined_data_nvda['sentiment'].corr(combined_data_nvda['Close'])\n",
    "print(f\"Pearson correlation between sentiment and closing price: {correlation}\")"
   ]
  },
  {
   "cell_type": "markdown",
   "id": "07a83aab",
   "metadata": {},
   "source": [
    "Summary: The Pearson correlation between sentiment and daily returns is 0.015, indicating a weak positive correlation."
   ]
  },
  {
   "cell_type": "markdown",
   "id": "e165fd10",
   "metadata": {},
   "source": [
    "#### Spearman Correlation"
   ]
  },
  {
   "cell_type": "code",
   "execution_count": 90,
   "id": "798a13f2",
   "metadata": {},
   "outputs": [
    {
     "name": "stdout",
     "output_type": "stream",
     "text": [
      "Spearman correlation between sentiment and daily returns: 0.021330574716928535\n"
     ]
    }
   ],
   "source": [
    "# spearman correlation for sentiment and daily returns\n",
    "correlation = combined_data_goog['sentiment'].corr(combined_data_goog['Daily Returns'], method='spearman')\n",
    "print(f\"Spearman correlation between sentiment and daily returns: {correlation}\")"
   ]
  },
  {
   "cell_type": "code",
   "execution_count": 91,
   "id": "3b3228ca",
   "metadata": {},
   "outputs": [
    {
     "name": "stdout",
     "output_type": "stream",
     "text": [
      "Pearson correlation between sentiment and closing price: 0.03656430626505984\n"
     ]
    }
   ],
   "source": [
    "correlation = combined_data_nvda['sentiment'].corr(combined_data_nvda['Close'])\n",
    "print(f\"Pearson correlation between sentiment and closing price: {correlation}\")"
   ]
  },
  {
   "cell_type": "markdown",
   "id": "cf8f03b2",
   "metadata": {},
   "source": [
    "Summary: The Spearman correlation between sentiment and daily returns is 0.021, indicating a weak positive correlation."
   ]
  },
  {
   "cell_type": "markdown",
   "id": "fe6472ec",
   "metadata": {},
   "source": [
    "##### Kendall Correlation"
   ]
  },
  {
   "cell_type": "code",
   "execution_count": 92,
   "id": "f4f5d01b",
   "metadata": {},
   "outputs": [
    {
     "name": "stdout",
     "output_type": "stream",
     "text": [
      "Kendall correlation between sentiment and daily returns: SignificanceResult(statistic=nan, pvalue=nan)\n"
     ]
    }
   ],
   "source": [
    "# kendall correlation for sentiment and daily returns\n",
    "correlation = kendalltau(combined_data_goog['sentiment'], combined_data_goog['Daily Returns'])\n",
    "print(f\"Kendall correlation between sentiment and daily returns: {correlation}\")"
   ]
  },
  {
   "cell_type": "code",
   "execution_count": 94,
   "id": "a25c65e4",
   "metadata": {},
   "outputs": [
    {
     "name": "stdout",
     "output_type": "stream",
     "text": [
      "Kendall correlation between sentiment and daily returns (filtered): SignificanceResult(statistic=np.float64(0.017101292886376133), pvalue=np.float64(0.4669832240923315))\n"
     ]
    }
   ],
   "source": [
    "# Drop rows with NaNs before computing\n",
    "filtered_data = combined_data_goog[['sentiment', 'Daily Returns']].dropna()\n",
    "correlation = kendalltau(filtered_data['sentiment'], filtered_data['Daily Returns'])\n",
    "print(f\"Kendall correlation between sentiment and daily returns (filtered): {correlation}\")"
   ]
  },
  {
   "cell_type": "markdown",
   "id": "14f2dc79",
   "metadata": {},
   "source": [
    "Interpretation:\n",
    "\n",
    "- The Pearson correlation between sentiment and daily returns is 0.015, indicating a weak positive correlation.\n",
    "- The Spearman correlation between sentiment and daily returns is 0.021, indicating a weak positive correlation.\n",
    "- The Kendall correlation between sentiment and daily returns is SignificanceResult(statistic=0.0171), pvalue=0.466), indicating a weak positive correlation."
   ]
  },
  {
   "cell_type": "code",
   "execution_count": 95,
   "id": "58a87647",
   "metadata": {},
   "outputs": [],
   "source": [
    "# Plot correlation heatmap\n",
    "corr_data = combined_data_goog[['sentiment', 'Daily Returns', 'Close']].dropna()"
   ]
  },
  {
   "cell_type": "code",
   "execution_count": 96,
   "id": "2454b106",
   "metadata": {},
   "outputs": [],
   "source": [
    "# calculate correlation matrix\n",
    "correlation_matrix = corr_data.corr(method='pearson')"
   ]
  },
  {
   "cell_type": "code",
   "execution_count": 97,
   "id": "d7c51ead",
   "metadata": {},
   "outputs": [
    {
     "data": {
      "image/png": "[encoded data removed]",
      "text/plain": [
       "<Figure size 800x600 with 2 Axes>"
      ]
     },
     "metadata": {},
     "output_type": "display_data"
    }
   ],
   "source": [
    "plt.figure(figsize=(8, 6))\n",
    "sns.heatmap(correlation_matrix, annot=True, cmap='coolwarm', fmt='.2f', square=True, cbar_kws={\"shrink\": .8})\n",
    "plt.title('Correlation Matix Heatmap, for GOOG')\n",
    "plt.tight_layout()\n",
    "plt.show()"
   ]
  },
  {
   "cell_type": "code",
   "execution_count": 98,
   "id": "60d49aa6",
   "metadata": {},
   "outputs": [
    {
     "data": {
      "image/png": "[encoded data removed]",
      "text/plain": [
       "<Figure size 1000x600 with 1 Axes>"
      ]
     },
     "metadata": {},
     "output_type": "display_data"
    }
   ],
   "source": [
    "# scatter plot for sentiment vs daily returns\n",
    "plt.figure(figsize=(10, 6))\n",
    "sns.scatterplot(data=combined_data_goog, x='sentiment', y='Daily Returns')\n",
    "plt.title('Scatter Plot: Sentiment vs Daily Returns for GOOG')  \n",
    "plt.xlabel('Sentiment')\n",
    "plt.ylabel('Daily Returns')\n",
    "plt.axhline(0, color='red', linestyle='--', linewidth=1)\n",
    "plt.axvline(0, color='red', linestyle='--', linewidth=1)\n",
    "plt.tight_layout()\n",
    "plt.show()"
   ]
  }
 ],
 "metadata": {
  "kernelspec": {
   "display_name": "week1",
   "language": "python",
   "name": "python3"
  },
  "language_info": {
   "codemirror_mode": {
    "name": "ipython",
    "version": 3
   },
   "file_extension": ".py",
   "mimetype": "text/x-python",
   "name": "python",
   "nbconvert_exporter": "python",
   "pygments_lexer": "ipython3",
   "version": "3.13.2"
  }
 },
 "nbformat": 4,
 "nbformat_minor": 5
}
